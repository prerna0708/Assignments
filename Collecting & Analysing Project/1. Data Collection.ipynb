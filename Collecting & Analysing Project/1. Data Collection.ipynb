{
 "cells": [
  {
   "cell_type": "markdown",
   "metadata": {},
   "source": [
    "# Introduction"
   ]
  },
  {
   "cell_type": "markdown",
   "metadata": {},
   "source": [
    "For data collection, we used Twitter because it is a social platform with millions of users and a sufficient amount of data is available to find relevant insights. Using Python library Tweepy, we scrapped 10,000 tweets. For privacy reasons, the consumer key and access token fields are hidden. However, we have run this code and output file: \"tweets.csv\" is available in the folder submitted for your reference.\n",
    "\n",
    "*References* \n",
    "* https://towardsdatascience.com/how-to-scrape-tweets-from-twitter-59287e20f0f1"
   ]
  },
  {
   "cell_type": "markdown",
   "metadata": {},
   "source": [
    "#### Import libraries"
   ]
  },
  {
   "cell_type": "code",
   "execution_count": null,
   "metadata": {},
   "outputs": [],
   "source": [
    "# to install all the required libraries for this project\n",
    "!pip install -r requirements.txt"
   ]
  },
  {
   "cell_type": "code",
   "execution_count": 1,
   "metadata": {},
   "outputs": [],
   "source": [
    "import tweepy\n",
    "import pandas as pd\n",
    "from credentials import *\n",
    "import tweepy\n",
    "import time"
   ]
  },
  {
   "cell_type": "markdown",
   "metadata": {},
   "source": [
    "#### Authorise Tweepy\n",
    "To access the API of Twitter, we need credentials for which we applied for Twitter's developer's account. After acquiring credentials, the following code was used to authorize Tweepy and use the API:"
   ]
  },
  {
   "cell_type": "code",
   "execution_count": 2,
   "metadata": {},
   "outputs": [],
   "source": [
    "# The keys are hidden for privacy reasons\n",
    "consumer_key = \"xxxxxx\"\n",
    "consumer_secret = \"xxxxxxxx\"\n",
    "access_token = \"xxxxxx\"\n",
    "access_token_secret = \"xxxxx\"\n",
    "auth = tweepy.OAuthHandler(consumer_key, consumer_secret)\n",
    "auth.set_access_token(access_token, access_token_secret)\n",
    "api = tweepy.API(auth,wait_on_rate_limit=True)"
   ]
  },
  {
   "cell_type": "markdown",
   "metadata": {},
   "source": [
    "#### Query tweets of climate change\n",
    "Tweepy .Cursor() function was used to search twitter for the tweets containing search term \"Climate change\" and .items() is used to restrict the number of tweets we require. We have limited the scrapping of tweets to 10,000. Moreover, there is an option in Twitter to retweet (someone can share tweets of others) and a possibility of duplicate tweets which can skew our analysis therefore, we have removed retweets from our search query by using \"-filter:retweets\"."
   ]
  },
  {
   "cell_type": "code",
   "execution_count": 4,
   "metadata": {},
   "outputs": [],
   "source": [
    "text_query = \"climate+change -filter:retweets\"\n",
    "count = 10000\n",
    "try:\n",
    "    # Creation of query method using parameters\n",
    "    tweets = tweepy.Cursor(api.search,q=text_query).items(count)\n",
    "    # Pulling information from tweets iterable object\n",
    "    tweets_list = [[tweet.created_at, tweet.id, tweet.text] for tweet in tweets]\n",
    "    # Creation of dataframe from tweets list\n",
    "    # Add or remove columns as you remove tweet information\n",
    "    tweets_df = pd.DataFrame(tweets_list)\n",
    "\n",
    "except BaseException as e:\n",
    "        print('failed on_status,',str(e))\n",
    "        time.sleep(10)"
   ]
  },
  {
   "cell_type": "markdown",
   "metadata": {},
   "source": [
    "#### Storing Tweets in a csv file"
   ]
  },
  {
   "cell_type": "code",
   "execution_count": 5,
   "metadata": {},
   "outputs": [],
   "source": [
    "tweets_df.to_csv('tweets.csv')"
   ]
  }
 ],
 "metadata": {
  "kernelspec": {
   "display_name": "Python 3",
   "language": "python",
   "name": "python3"
  },
  "language_info": {
   "codemirror_mode": {
    "name": "ipython",
    "version": 3
   },
   "file_extension": ".py",
   "mimetype": "text/x-python",
   "name": "python",
   "nbconvert_exporter": "python",
   "pygments_lexer": "ipython3",
   "version": "3.8.5"
  }
 },
 "nbformat": 4,
 "nbformat_minor": 4
}
