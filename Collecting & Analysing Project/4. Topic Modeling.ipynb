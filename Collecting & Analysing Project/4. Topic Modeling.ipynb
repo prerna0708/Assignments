{
 "cells": [
  {
   "cell_type": "markdown",
   "metadata": {},
   "source": [
    "# Introduction"
   ]
  },
  {
   "cell_type": "markdown",
   "metadata": {},
   "source": [
    "Topic modeling is an unsupervised learning for discovering topics in a collection of documents. Since, climate change consists of vast range of topics, we decided to discover key underlying topics that occur with climate change such as heatwaves, water shortage, GHG and much more. We have used the most common tool for topic modeling: Latent Dirichlet Allocation (LDA). \n",
    "\n",
    "<b>Working of LDA model</b>\\\n",
    "LDA helps in discovering hidden topics from the collection of documents and is based on the assumption that each documents(tweets in our case) are composed of words which assists in determining the topics. It basically maps each tweet to a topic list by assigning each word to different topics and after assigning the probabilities to each word, top \"r\" probability words are chosen to determine the topic.\n",
    "\n",
    "We built LDA model on our previously cleaned data with 5 topics where each topic is a combination of keywords and each word contributes to a certain weightage in the topic. However, we also explored the better version of LDA models: Mallet version and also found some interesting topics.\n",
    "\n",
    "*References*\n",
    "* https://www.mygreatlearning.com/blog/understanding-latent-dirichlet-allocation/#:~:text=LDA%20assumes%20that%20documents%20are,the%20document%20to%20different%20topics.&text=It%20treats%20documents%20just%20as,for%20topic%20assignment%20to%20words.\n",
    "* https://www.machinelearningplus.com/nlp/topic-modeling-gensim-python/#12buildingthetopicmodel"
   ]
  },
  {
   "cell_type": "markdown",
   "metadata": {
    "id": "BoeoOnU4KgGh"
   },
   "source": [
    "#### Import libraries"
   ]
  },
  {
   "cell_type": "code",
   "execution_count": 1,
   "metadata": {
    "id": "eGRFQfiZKgGh",
    "outputId": "3bffc267-fe5f-4fc6-938d-e710aa164cf2"
   },
   "outputs": [
    {
     "name": "stderr",
     "output_type": "stream",
     "text": [
      "[nltk_data] Downloading package punkt to\n",
      "[nltk_data]     /Users/sanyaanand/nltk_data...\n",
      "[nltk_data]   Package punkt is already up-to-date!\n"
     ]
    }
   ],
   "source": [
    "import warnings\n",
    "warnings.filterwarnings(\"ignore\")\n",
    "import pandas as pd\n",
    "from pprint import pprint\n",
    "from gensim.models.ldamodel import LdaModel\n",
    "import re, nltk, spacy, gensim\n",
    "import matplotlib.pyplot as plt\n",
    "import spacy\n",
    "import nltk\n",
    "nltk.download('punkt')\n",
    "from nltk.tokenize import word_tokenize\n",
    "from gensim.models.coherencemodel import CoherenceModel\n",
    "import gensim.corpora as corpora\n",
    "from gensim.corpora import Dictionary\n",
    "import pyLDAvis\n",
    "import pyLDAvis.gensim_models as gensimvis\n",
    "import os"
   ]
  },
  {
   "cell_type": "markdown",
   "metadata": {
    "id": "3t60gfCGKgGi"
   },
   "source": [
    "#### Read the data set"
   ]
  },
  {
   "cell_type": "code",
   "execution_count": 2,
   "metadata": {
    "id": "RFff5hdLKgGj",
    "outputId": "245cb612-fe62-4dca-da8b-224209fc32f8"
   },
   "outputs": [
    {
     "data": {
      "text/html": [
       "<div>\n",
       "<style scoped>\n",
       "    .dataframe tbody tr th:only-of-type {\n",
       "        vertical-align: middle;\n",
       "    }\n",
       "\n",
       "    .dataframe tbody tr th {\n",
       "        vertical-align: top;\n",
       "    }\n",
       "\n",
       "    .dataframe thead th {\n",
       "        text-align: right;\n",
       "    }\n",
       "</style>\n",
       "<table border=\"1\" class=\"dataframe\">\n",
       "  <thead>\n",
       "    <tr style=\"text-align: right;\">\n",
       "      <th></th>\n",
       "      <th>date</th>\n",
       "      <th>id</th>\n",
       "      <th>tweets_text</th>\n",
       "      <th>clean_txt</th>\n",
       "      <th>clean_words_text</th>\n",
       "      <th>tweet_length</th>\n",
       "    </tr>\n",
       "  </thead>\n",
       "  <tbody>\n",
       "    <tr>\n",
       "      <th>388</th>\n",
       "      <td>2021-05-06 21:18:32</td>\n",
       "      <td>1.390416e+18</td>\n",
       "      <td>@elonmusk People with a multi generation time ...</td>\n",
       "      <td>elonmusk people with a multi generation time h...</td>\n",
       "      <td>elonmusk people multi generation time horizon ...</td>\n",
       "      <td>204</td>\n",
       "    </tr>\n",
       "    <tr>\n",
       "      <th>8378</th>\n",
       "      <td>2021-05-06 02:59:37</td>\n",
       "      <td>1.390139e+18</td>\n",
       "      <td>Children are being rented and cartels are char...</td>\n",
       "      <td>children are being rented and cartels are char...</td>\n",
       "      <td>child rented cartel charging thousand smuggle ...</td>\n",
       "      <td>212</td>\n",
       "    </tr>\n",
       "    <tr>\n",
       "      <th>739</th>\n",
       "      <td>2021-05-06 20:41:22</td>\n",
       "      <td>1.390406e+18</td>\n",
       "      <td>@BlakeRichardsMP I pray daily that the brain d...</td>\n",
       "      <td>blakerichardsmp i pray daily that the brain de...</td>\n",
       "      <td>blakerichardsmp pray daily brain dead policy g...</td>\n",
       "      <td>262</td>\n",
       "    </tr>\n",
       "    <tr>\n",
       "      <th>2020</th>\n",
       "      <td>2021-05-06 18:17:17</td>\n",
       "      <td>1.390370e+18</td>\n",
       "      <td>CEB Webinar Health and Climate Change #Climate...</td>\n",
       "      <td>ceb webinar health and climate change climatec...</td>\n",
       "      <td>ceb webinar health health via</td>\n",
       "      <td>62</td>\n",
       "    </tr>\n",
       "    <tr>\n",
       "      <th>4290</th>\n",
       "      <td>2021-05-06 14:30:43</td>\n",
       "      <td>1.390313e+18</td>\n",
       "      <td>Does a region as highly reputed as St-Emilion ...</td>\n",
       "      <td>does a region as highly reputed as stemilion n...</td>\n",
       "      <td>region highly reputed stemilion need there gro...</td>\n",
       "      <td>200</td>\n",
       "    </tr>\n",
       "  </tbody>\n",
       "</table>\n",
       "</div>"
      ],
      "text/plain": [
       "                     date            id  \\\n",
       "388   2021-05-06 21:18:32  1.390416e+18   \n",
       "8378  2021-05-06 02:59:37  1.390139e+18   \n",
       "739   2021-05-06 20:41:22  1.390406e+18   \n",
       "2020  2021-05-06 18:17:17  1.390370e+18   \n",
       "4290  2021-05-06 14:30:43  1.390313e+18   \n",
       "\n",
       "                                            tweets_text  \\\n",
       "388   @elonmusk People with a multi generation time ...   \n",
       "8378  Children are being rented and cartels are char...   \n",
       "739   @BlakeRichardsMP I pray daily that the brain d...   \n",
       "2020  CEB Webinar Health and Climate Change #Climate...   \n",
       "4290  Does a region as highly reputed as St-Emilion ...   \n",
       "\n",
       "                                              clean_txt  \\\n",
       "388   elonmusk people with a multi generation time h...   \n",
       "8378  children are being rented and cartels are char...   \n",
       "739   blakerichardsmp i pray daily that the brain de...   \n",
       "2020  ceb webinar health and climate change climatec...   \n",
       "4290  does a region as highly reputed as stemilion n...   \n",
       "\n",
       "                                       clean_words_text  tweet_length  \n",
       "388   elonmusk people multi generation time horizon ...           204  \n",
       "8378  child rented cartel charging thousand smuggle ...           212  \n",
       "739   blakerichardsmp pray daily brain dead policy g...           262  \n",
       "2020                      ceb webinar health health via            62  \n",
       "4290  region highly reputed stemilion need there gro...           200  "
      ]
     },
     "execution_count": 2,
     "metadata": {},
     "output_type": "execute_result"
    }
   ],
   "source": [
    "data = pd.read_csv('./cleaned_data.csv')\n",
    "data.sample(5)"
   ]
  },
  {
   "cell_type": "code",
   "execution_count": 3,
   "metadata": {
    "id": "GJOPy2J7KgGk",
    "outputId": "94f2f20c-8aca-40e1-b5c8-ad228ca8dff8"
   },
   "outputs": [
    {
     "name": "stdout",
     "output_type": "stream",
     "text": [
      "2\n"
     ]
    }
   ],
   "source": [
    "# check if the clean_words_text has na values\n",
    "print(data['clean_words_text'].isna().sum())"
   ]
  },
  {
   "cell_type": "code",
   "execution_count": 4,
   "metadata": {},
   "outputs": [],
   "source": [
    "# fill na\n",
    "data['clean_words_text']=data['clean_words_text'].fillna(\"\")"
   ]
  },
  {
   "cell_type": "markdown",
   "metadata": {},
   "source": [
    "#### Requirement for LDA - Tokenise words"
   ]
  },
  {
   "cell_type": "code",
   "execution_count": 5,
   "metadata": {
    "id": "nwAlxbxWKgGl"
   },
   "outputs": [],
   "source": [
    "# tokenise cleaned_words\n",
    "data['tokenized_text'] = data['clean_words_text'].apply(word_tokenize) \n",
    "\n",
    "#create dictionary\n",
    "text_dict = Dictionary(data['clean_words_text'].str.split())\n",
    "tweets_bow = [text_dict.doc2bow(tweet) for tweet in data['tokenized_text']]\n",
    "tokens = [tweet for tweet in data['tokenized_text']]\n",
    "data2 = data['clean_words_text'].tolist()"
   ]
  },
  {
   "cell_type": "markdown",
   "metadata": {
    "id": "tY8sEjJPKgGl"
   },
   "source": [
    "### LDA Model\n",
    "\n",
    "The LDA model is built with 5 different topics where each keyword in the topic contributes to a certain weightage in the topic. The model outputs 10 keywords for each topic and their respective importance."
   ]
  },
  {
   "cell_type": "code",
   "execution_count": 6,
   "metadata": {
    "id": "eRu4E8qYKgGl"
   },
   "outputs": [],
   "source": [
    "# Build LDA model\n",
    "lda_model = gensim.models.ldamodel.LdaModel(corpus=tweets_bow,\n",
    "                                           id2word=text_dict,\n",
    "                                           num_topics=5, \n",
    "                                           random_state=100,\n",
    "                                           update_every=1,\n",
    "                                           chunksize=100,\n",
    "                                           passes=10,\n",
    "                                           alpha='auto',\n",
    "                                           per_word_topics=True)"
   ]
  },
  {
   "cell_type": "code",
   "execution_count": 7,
   "metadata": {
    "id": "3E0ixJupKgGm",
    "outputId": "c2beedd9-fbb2-4d27-c0a7-275f0b5d7d3b"
   },
   "outputs": [
    {
     "name": "stdout",
     "output_type": "stream",
     "text": [
      "[(0,\n",
      "  [('action', 0.01677127),\n",
      "   ('take', 0.01586755),\n",
      "   ('fight', 0.014079804),\n",
      "   ('support', 0.011286235),\n",
      "   ('border', 0.010838175),\n",
      "   ('act', 0.010805121),\n",
      "   ('farmer', 0.009806703),\n",
      "   ('would', 0.008920186),\n",
      "   ('vital', 0.008784094),\n",
      "   ('real', 0.008613096)]),\n",
      " (1,\n",
      "  [('government', 0.013819106),\n",
      "   ('five', 0.0126535),\n",
      "   ('well', 0.012128598),\n",
      "   ('state', 0.011133854),\n",
      "   ('warming', 0.011023487),\n",
      "   ('america', 0.010459921),\n",
      "   ('nothing', 0.009902865),\n",
      "   ('day', 0.0096916575),\n",
      "   ('child', 0.0090487),\n",
      "   ('million', 0.008871582)]),\n",
      " (2,\n",
      "  [('time', 0.026263963),\n",
      "   ('since', 0.011532521),\n",
      "   ('better', 0.010595693),\n",
      "   ('australia', 0.009661296),\n",
      "   ('environmental', 0.009239762),\n",
      "   ('economy', 0.008866193),\n",
      "   ('project', 0.008267285),\n",
      "   ('important', 0.008038331),\n",
      "   ('resilience', 0.007930402),\n",
      "   ('natural', 0.007914007)]),\n",
      " (3,\n",
      "  [('amp', 0.013928435),\n",
      "   ('people', 0.012068993),\n",
      "   ('u', 0.011475667),\n",
      "   ('like', 0.010802286),\n",
      "   ('world', 0.009346123),\n",
      "   ('global', 0.00835899),\n",
      "   ('new', 0.007929335),\n",
      "   ('year', 0.007683161),\n",
      "   ('one', 0.007639245),\n",
      "   ('say', 0.006534679)]),\n",
      " (4,\n",
      "  [('life', 0.014990926),\n",
      "   ('food', 0.01364322),\n",
      "   ('planet', 0.012643964),\n",
      "   ('threat', 0.011030759),\n",
      "   ('energy', 0.010358595),\n",
      "   ('ocean', 0.0096489405),\n",
      "   ('use', 0.007846362),\n",
      "   ('might', 0.007428269),\n",
      "   ('challenge', 0.007233599),\n",
      "   ('community', 0.0068480046)])]\n"
     ]
    }
   ],
   "source": [
    "pprint(lda_model.show_topics(formatted=False))"
   ]
  },
  {
   "cell_type": "markdown",
   "metadata": {
    "id": "HW9twi1F4pSH"
   },
   "source": [
    "#### Topic Summarisation\n",
    "\n",
    "**Topic 0** is  represented as follows and has 10 keywords contributing to it:\n",
    "('action', 0.01677127),\n",
    "('take', 0.01586755),\n",
    "('fight', 0.014079804),\n",
    "('support', 0.011286235),\n",
    "('border', 0.010838175),\n",
    "('act', 0.010805121),\n",
    "('farmer', 0.009806703),\n",
    "('would', 0.008920186),\n",
    "('vital', 0.008784094),\n",
    "('real', 0.008613096). \n",
    "\n",
    "Based on the above results, we can summarise each topic as follows:\n",
    "* <b>Topic 0 -</b> Supporting Farmers or Fighting Climate change\n",
    "* <b>Topic 1 -</b> Warming in America\n",
    "* <b>Topic 2 -</b> Environment of Australia\n",
    "* <b>Topic 3 -</b> Climate Change- Ain't my problem\n",
    "* <b>Topic 4 -</b> Threat to planet"
   ]
  },
  {
   "cell_type": "code",
   "execution_count": 8,
   "metadata": {
    "id": "WSVvNEOvKgGm",
    "outputId": "1bcdd14b-e99e-49f7-aefa-bcc7e99b3659"
   },
   "outputs": [
    {
     "name": "stdout",
     "output_type": "stream",
     "text": [
      "\n",
      "Coherence Score:  0.49355415902724803\n"
     ]
    }
   ],
   "source": [
    "# Compute Coherence Score\n",
    "coherence_model_lda = CoherenceModel(model=lda_model, texts=tokens, dictionary=text_dict, coherence='c_v',topn=60)\n",
    "coherence_lda = coherence_model_lda.get_coherence()\n",
    "print('\\nCoherence Score: ', coherence_lda)"
   ]
  },
  {
   "cell_type": "markdown",
   "metadata": {
    "id": "Fh1L-MdZ8Ty4"
   },
   "source": [
    "#### Visualising the Topics \n",
    "\n",
    "Values of lambda that are very close to zero will show terms that are more specific for a chosen topic. Meaning that we will see terms that are \"important\" for that specific topic but not necessarily \"important\" for the whole corpus. Values of lambda that are very close to one will show those terms that have the highest ratio between frequency of the terms for that specific topic and the overall frequency of the terms from the corpus. The larger the bubble, the more prevalent is that topic. We predict the topic 1 to be more prevalent."
   ]
  },
  {
   "cell_type": "code",
   "execution_count": 9,
   "metadata": {
    "id": "Cuh7BWA_KgGn",
    "outputId": "7cafbcfc-43c4-44fe-a964-28fa5c01cc66"
   },
   "outputs": [
    {
     "data": {
      "text/html": [
       "\n",
       "<link rel=\"stylesheet\" type=\"text/css\" href=\"https://cdn.jsdelivr.net/gh/bmabey/pyLDAvis@3.3.1/pyLDAvis/js/ldavis.v1.0.0.css\">\n",
       "\n",
       "\n",
       "<div id=\"ldavis_el10391140339192830656713345097\"></div>\n",
       "<script type=\"text/javascript\">\n",
       "\n",
       "var ldavis_el10391140339192830656713345097_data = {\"mdsDat\": {\"x\": [-0.34601110696971454, 0.15071155548846582, 0.06745703715009897, 0.0722128281968678, 0.05562968613428217], \"y\": [0.059487051577269, 0.2902113053879609, -0.11845636792038329, -0.13871809075491667, -0.09252389828993023], \"topics\": [1, 2, 3, 4, 5], \"cluster\": [1, 1, 1, 1, 1], \"Freq\": [46.917732564312374, 24.185383986102984, 10.331777859861372, 10.30660415546329, 8.258501434259978]}, \"tinfo\": {\"Term\": [\"action\", \"time\", \"take\", \"amp\", \"fight\", \"people\", \"u\", \"support\", \"like\", \"border\", \"act\", \"life\", \"farmer\", \"government\", \"world\", \"food\", \"would\", \"vital\", \"planet\", \"five\", \"real\", \"global\", \"well\", \"harris\", \"rancher\", \"birdstellus\", \"audubonsociety\", \"growingclimatesolutions\", \"forester\", \"new\", \"amp\", \"people\", \"u\", \"like\", \"world\", \"global\", \"new\", \"year\", \"one\", \"dont\", \"say\", \"know\", \"think\", \"could\", \"make\", \"also\", \"help\", \"emission\", \"issue\", \"want\", \"carbon\", \"impact\", \"way\", \"really\", \"country\", \"human\", \"even\", \"many\", \"earth\", \"im\", \"need\", \"thing\", \"via\", \"action\", \"take\", \"fight\", \"support\", \"act\", \"border\", \"farmer\", \"would\", \"vital\", \"real\", \"rancher\", \"audubonsociety\", \"birdstellus\", \"forester\", \"growingclimatesolutions\", \"harris\", \"vp\", \"right\", \"blaming\", \"much\", \"future\", \"react\", \"cause\", \"look\", \"ice\", \"green\", \"today\", \"risk\", \"said\", \"job\", \"get\", \"crisis\", \"life\", \"food\", \"planet\", \"threat\", \"energy\", \"ocean\", \"use\", \"might\", \"challenge\", \"community\", \"little\", \"thought\", \"making\", \"generation\", \"forest\", \"na\", \"thanks\", \"love\", \"technology\", \"yes\", \"focus\", \"taking\", \"old\", \"worse\", \"matter\", \"lead\", \"gon\", \"mind\", \"coastal\", \"mass\", \"government\", \"well\", \"five\", \"state\", \"warming\", \"america\", \"nothing\", \"day\", \"child\", \"million\", \"company\", \"normal\", \"due\", \"anything\", \"pollution\", \"god\", \"reduce\", \"affect\", \"long\", \"national\", \"air\", \"justice\", \"using\", \"deforestation\", \"least\", \"trying\", \"degree\", \"number\", \"free\", \"true\", \"time\", \"since\", \"better\", \"australia\", \"environmental\", \"economy\", \"project\", \"important\", \"resilience\", \"natural\", \"talking\", \"disaster\", \"paris\", \"inequality\", \"including\", \"sustainability\", \"tackling\", \"youre\", \"hope\", \"hoax\", \"role\", \"population\", \"create\", \"adaptation\", \"sector\", \"local\", \"damage\", \"list\", \"add\", \"wealth\"], \"Freq\": [618.0, 331.0, 585.0, 996.0, 519.0, 863.0, 821.0, 416.0, 772.0, 400.0, 398.0, 236.0, 362.0, 217.0, 668.0, 215.0, 329.0, 324.0, 199.0, 199.0, 318.0, 598.0, 191.0, 304.0, 302.0, 302.0, 302.0, 302.0, 302.0, 567.0, 995.7432011173368, 862.8118160367128, 820.3949621100695, 772.2549398688526, 668.153917799336, 597.5838216023946, 566.8678404496494, 549.2688598580826, 546.1293033219483, 463.86379392837, 467.16390864213076, 446.3346559776202, 440.2248563806591, 439.19798979408097, 410.623860723092, 362.2829326966841, 357.50700103692765, 343.4842765821802, 338.54722081300804, 334.64715182241036, 330.386118220574, 317.2865949646526, 308.94113176933746, 294.6200281012236, 288.970164598413, 289.61905532996917, 287.52613970293226, 285.69521720422216, 271.9236998837002, 256.21381624976993, 460.3712291161521, 451.9783608109593, 389.02234419696435, 618.0547593901176, 584.7508729964646, 518.8688540841869, 415.9202928114904, 398.1902553782888, 399.4083796822944, 361.39656572317966, 328.72665859650493, 323.7113856252512, 317.40975801311686, 302.0239543322115, 302.0188748101504, 302.0188748101504, 302.0188748101504, 302.0188748101504, 303.65163226294146, 283.50010429258174, 280.0484832493215, 217.67912544777477, 217.55299542362226, 216.05769395633615, 209.06344948640333, 194.73885406312937, 185.7690015618282, 185.58351320386024, 179.8838261165147, 172.6662542813682, 172.7854857654242, 167.9387293706572, 163.97085041629435, 247.2449469392351, 309.9802362557516, 235.99974441222344, 214.78302902186027, 199.05190122515236, 173.65546850588177, 163.0737070658817, 151.901725753452, 123.52401997128155, 116.94204794200385, 113.87739400632707, 107.80704067857044, 101.85373873077064, 101.06473604260171, 100.16547765489307, 99.96194446060977, 96.01520094362871, 88.73798755577737, 88.17929025701932, 85.65315184211967, 81.83601741874647, 81.30094005774886, 78.625567914423, 77.9076816186234, 77.15850733574698, 75.18999591826675, 73.41865453368679, 73.29087081701945, 71.89127587683173, 71.74136771194559, 69.90113117681548, 69.80435687564368, 217.02189961462224, 190.4733493300872, 198.7166599404582, 174.85141359748525, 173.11815212154605, 164.2676456715246, 155.51935990615488, 152.2024603058271, 142.10515109663805, 139.3236047257147, 134.8954994426832, 129.7849917438846, 120.76455382661086, 106.79341852830179, 104.91752489944744, 99.32894645964599, 89.4046474777778, 80.35021156630275, 76.84972718506943, 76.11514673346099, 69.61180359186264, 66.19490644954543, 62.789519920881226, 63.18455920863358, 62.701267007561924, 60.9910669802598, 57.975341050439575, 57.446584119329295, 55.898018995626764, 55.42164851998241, 330.4985298697241, 145.12208734169374, 133.3333048625615, 121.57511030052189, 116.270638098784, 111.56974402198985, 104.03325627464389, 101.15215575272404, 99.79400535577871, 99.58769512876793, 96.20399176683533, 86.58505284090649, 87.26746809929156, 84.6827891049668, 82.27271906725608, 81.03601793652938, 80.2978881349036, 71.27969121287005, 70.43272233613355, 66.99455841836598, 64.37378333797025, 64.18397417887762, 63.182471863526935, 60.66622307912696, 61.25543894644732, 52.91549685729391, 53.32567965355484, 50.989360482611836, 49.47589729973942, 51.10498515312356], \"Total\": [618.0, 331.0, 585.0, 996.0, 519.0, 863.0, 821.0, 416.0, 772.0, 400.0, 398.0, 236.0, 362.0, 217.0, 668.0, 215.0, 329.0, 324.0, 199.0, 199.0, 318.0, 598.0, 191.0, 304.0, 302.0, 302.0, 302.0, 302.0, 302.0, 567.0, 996.4495037864898, 863.5172398213095, 821.0994551027993, 772.9612121236368, 668.8562944171332, 598.2895049126375, 567.5720630975756, 549.9738608958754, 546.8337302230178, 464.56697739446116, 467.8734010570664, 447.0418859672511, 440.9279458251665, 439.9042162338475, 411.32892449512474, 362.9882510772998, 358.21368618740024, 344.18757695923506, 339.25323983829975, 335.35021234932935, 331.0902416076919, 317.98918591814623, 309.6451002615958, 295.32389082566016, 289.6701534552479, 290.32460892117854, 288.2305300299744, 286.40213359661266, 272.6289743705747, 256.91785347305427, 485.1473986613799, 478.30127132576587, 453.9277204099075, 618.7885814265625, 585.4837928078972, 519.6003899908479, 416.6516350989581, 398.921237928255, 400.14469264917125, 362.1263181238145, 329.4648911864362, 324.4408597508188, 318.154975904833, 302.75056646495653, 302.74548926448836, 302.74548926448836, 302.74548926448836, 302.74548926448836, 304.38594341326325, 284.2357644093319, 280.7894262131929, 218.41370836115797, 218.29207399815633, 216.79544632649026, 209.79951133309473, 195.47655980702902, 186.50731509016364, 186.32134104171848, 180.61804046145272, 173.40549769616223, 173.5290394841081, 168.67588474681364, 164.70612220170406, 262.9565860571132, 565.7740665321531, 236.74165269015802, 215.52217162939033, 199.7969468933858, 174.39460899360557, 163.8093529745043, 152.64546193478327, 124.27507969961076, 117.69186367691418, 114.61354304208187, 108.5448934354342, 102.58818913643573, 101.80706057974957, 100.9047129861487, 100.71081945955127, 96.75478274554078, 89.4787303312723, 88.92133700983968, 86.40438761514365, 82.57583652334343, 82.04175813659043, 79.37501559490775, 78.65517598336493, 77.90280183053558, 75.93291330573399, 74.1631685130811, 74.0350765228385, 72.63168561067887, 72.4894914999866, 70.63514714557762, 70.5529102810958, 217.78203238148478, 191.23001009360402, 199.51778485324803, 175.608604339912, 173.87228858878422, 165.0301104618799, 156.27936780273166, 152.9559995536536, 142.86579998396255, 140.0778941521801, 135.6464822514059, 130.53457769121707, 121.51415748618491, 107.54531788154672, 105.67116960444942, 100.08847371109943, 90.15799650448307, 81.11422136277041, 77.60412066314812, 76.86669236348682, 70.35968546149122, 66.95322311708098, 63.54023701358494, 63.9485126018626, 63.46437092975574, 61.755068345523085, 58.72983089777354, 58.19814932815336, 56.6574066375975, 56.181532341689476, 331.2306458877224, 145.8564569681548, 134.0677527064811, 122.31031535410452, 117.00532433227053, 112.30133125533193, 104.76239194657923, 101.88314517529095, 100.53190358502121, 100.32437069661414, 96.93412799005814, 87.31152183008574, 88.00789184073673, 85.43054156089109, 83.00413098256726, 81.76264266336285, 81.04257557072877, 72.01322472605213, 71.16892142366042, 67.74294907772078, 65.10135606520375, 64.9159554768892, 63.91409486128108, 61.39299014390749, 61.99305764385713, 53.645788912108635, 54.072291049425345, 51.729615342040404, 50.21338778889874, 51.86725354179972], \"Category\": [\"Default\", \"Default\", \"Default\", \"Default\", \"Default\", \"Default\", \"Default\", \"Default\", \"Default\", \"Default\", \"Default\", \"Default\", \"Default\", \"Default\", \"Default\", \"Default\", \"Default\", \"Default\", \"Default\", \"Default\", \"Default\", \"Default\", \"Default\", \"Default\", \"Default\", \"Default\", \"Default\", \"Default\", \"Default\", \"Default\", \"Topic1\", \"Topic1\", \"Topic1\", \"Topic1\", \"Topic1\", \"Topic1\", \"Topic1\", \"Topic1\", \"Topic1\", \"Topic1\", \"Topic1\", \"Topic1\", \"Topic1\", \"Topic1\", \"Topic1\", \"Topic1\", \"Topic1\", \"Topic1\", \"Topic1\", \"Topic1\", \"Topic1\", \"Topic1\", \"Topic1\", \"Topic1\", \"Topic1\", \"Topic1\", \"Topic1\", \"Topic1\", \"Topic1\", \"Topic1\", \"Topic1\", \"Topic1\", \"Topic1\", \"Topic2\", \"Topic2\", \"Topic2\", \"Topic2\", \"Topic2\", \"Topic2\", \"Topic2\", \"Topic2\", \"Topic2\", \"Topic2\", \"Topic2\", \"Topic2\", \"Topic2\", \"Topic2\", \"Topic2\", \"Topic2\", \"Topic2\", \"Topic2\", \"Topic2\", \"Topic2\", \"Topic2\", \"Topic2\", \"Topic2\", \"Topic2\", \"Topic2\", \"Topic2\", \"Topic2\", \"Topic2\", \"Topic2\", \"Topic2\", \"Topic2\", \"Topic2\", \"Topic3\", \"Topic3\", \"Topic3\", \"Topic3\", \"Topic3\", \"Topic3\", \"Topic3\", \"Topic3\", \"Topic3\", \"Topic3\", \"Topic3\", \"Topic3\", \"Topic3\", \"Topic3\", \"Topic3\", \"Topic3\", \"Topic3\", \"Topic3\", \"Topic3\", \"Topic3\", \"Topic3\", \"Topic3\", \"Topic3\", \"Topic3\", \"Topic3\", \"Topic3\", \"Topic3\", \"Topic3\", \"Topic3\", \"Topic3\", \"Topic4\", \"Topic4\", \"Topic4\", \"Topic4\", \"Topic4\", \"Topic4\", \"Topic4\", \"Topic4\", \"Topic4\", \"Topic4\", \"Topic4\", \"Topic4\", \"Topic4\", \"Topic4\", \"Topic4\", \"Topic4\", \"Topic4\", \"Topic4\", \"Topic4\", \"Topic4\", \"Topic4\", \"Topic4\", \"Topic4\", \"Topic4\", \"Topic4\", \"Topic4\", \"Topic4\", \"Topic4\", \"Topic4\", \"Topic4\", \"Topic5\", \"Topic5\", \"Topic5\", \"Topic5\", \"Topic5\", \"Topic5\", \"Topic5\", \"Topic5\", \"Topic5\", \"Topic5\", \"Topic5\", \"Topic5\", \"Topic5\", \"Topic5\", \"Topic5\", \"Topic5\", \"Topic5\", \"Topic5\", \"Topic5\", \"Topic5\", \"Topic5\", \"Topic5\", \"Topic5\", \"Topic5\", \"Topic5\", \"Topic5\", \"Topic5\", \"Topic5\", \"Topic5\", \"Topic5\"], \"logprob\": [30.0, 29.0, 28.0, 27.0, 26.0, 25.0, 24.0, 23.0, 22.0, 21.0, 20.0, 19.0, 18.0, 17.0, 16.0, 15.0, 14.0, 13.0, 12.0, 11.0, 10.0, 9.0, 8.0, 7.0, 6.0, 5.0, 4.0, 3.0, 2.0, 1.0, -4.2738, -4.4171, -4.4675, -4.528, -4.6728, -4.7844, -4.8372, -4.8687, -4.8745, -5.0377, -5.0306, -5.0762, -5.09, -5.0924, -5.1596, -5.2849, -5.2982, -5.3382, -5.3526, -5.3642, -5.3771, -5.4175, -5.4442, -5.4916, -5.511, -5.5087, -5.516, -5.5224, -5.5718, -5.6313, -5.0453, -5.0637, -5.2137, -4.0881, -4.1435, -4.263, -4.4842, -4.5277, -4.5247, -4.6247, -4.7194, -4.7348, -4.7545, -4.8042, -4.8042, -4.8042, -4.8042, -4.8042, -4.7988, -4.8675, -4.8797, -5.1316, -5.1322, -5.1391, -5.172, -5.243, -5.2902, -5.2912, -5.3224, -5.3633, -5.3626, -5.3911, -5.415, -5.0043, -4.7782, -4.2003, -4.2945, -4.3706, -4.5071, -4.5699, -4.6409, -4.8477, -4.9025, -4.929, -4.9838, -5.0406, -5.0484, -5.0573, -5.0594, -5.0996, -5.1785, -5.1848, -5.2138, -5.2594, -5.266, -5.2994, -5.3086, -5.3183, -5.3441, -5.368, -5.3697, -5.389, -5.3911, -5.4171, -5.4184, -4.2817, -4.4122, -4.3698, -4.4978, -4.5077, -4.5602, -4.6149, -4.6365, -4.7051, -4.7249, -4.7572, -4.7958, -4.8679, -4.9908, -5.0085, -5.0633, -5.1685, -5.2753, -5.3198, -5.3295, -5.4188, -5.4691, -5.5219, -5.5156, -5.5233, -5.551, -5.6017, -5.6108, -5.6382, -5.6467, -3.6396, -4.4626, -4.5473, -4.6396, -4.6842, -4.7255, -4.7954, -4.8235, -4.8371, -4.8391, -4.8737, -4.979, -4.9712, -5.0012, -5.0301, -5.0453, -5.0544, -5.1735, -5.1855, -5.2355, -5.2755, -5.2784, -5.2941, -5.3348, -5.3251, -5.4715, -5.4637, -5.5085, -5.5387, -5.5063], \"loglift\": [30.0, 29.0, 28.0, 27.0, 26.0, 25.0, 24.0, 23.0, 22.0, 21.0, 20.0, 19.0, 18.0, 17.0, 16.0, 15.0, 14.0, 13.0, 12.0, 11.0, 10.0, 9.0, 8.0, 7.0, 6.0, 5.0, 4.0, 3.0, 2.0, 1.0, 0.7561, 0.756, 0.7559, 0.7559, 0.7557, 0.7556, 0.7555, 0.7555, 0.7555, 0.7553, 0.7553, 0.7552, 0.7552, 0.7552, 0.7551, 0.7548, 0.7548, 0.7547, 0.7547, 0.7547, 0.7546, 0.7546, 0.7545, 0.7544, 0.7544, 0.7543, 0.7543, 0.7543, 0.7542, 0.754, 0.7044, 0.7002, 0.6025, 1.4182, 1.4182, 1.418, 1.4177, 1.4176, 1.4176, 1.4174, 1.4172, 1.4172, 1.4171, 1.417, 1.417, 1.417, 1.417, 1.417, 1.417, 1.4168, 1.4168, 1.4161, 1.416, 1.416, 1.4159, 1.4156, 1.4155, 1.4155, 1.4153, 1.4151, 1.4151, 1.415, 1.4149, 1.3578, 0.8177, 2.2668, 2.2665, 2.2662, 2.2657, 2.2654, 2.2651, 2.2639, 2.2636, 2.2635, 2.2631, 2.2628, 2.2626, 2.2626, 2.2625, 2.2623, 2.2616, 2.2616, 2.2612, 2.2609, 2.2609, 2.2605, 2.2604, 2.2603, 2.2601, 2.2599, 2.2598, 2.2597, 2.2596, 2.2595, 2.2593, 2.2689, 2.2684, 2.2684, 2.2681, 2.268, 2.2678, 2.2675, 2.2674, 2.267, 2.267, 2.2668, 2.2666, 2.2662, 2.2654, 2.2652, 2.2648, 2.264, 2.2629, 2.2626, 2.2626, 2.2617, 2.261, 2.2605, 2.2604, 2.2603, 2.2599, 2.2595, 2.2594, 2.2589, 2.2588, 2.4917, 2.4889, 2.4884, 2.4879, 2.4876, 2.4874, 2.4869, 2.4867, 2.4866, 2.4866, 2.4864, 2.4856, 2.4855, 2.4851, 2.4851, 2.485, 2.4847, 2.4837, 2.4835, 2.4828, 2.4827, 2.4826, 2.4824, 2.482, 2.482, 2.4802, 2.48, 2.4795, 2.4791, 2.4791]}, \"token.table\": {\"Topic\": [2, 2, 5, 5, 4, 4, 1, 4, 1, 4, 2, 5, 5, 2, 2, 2, 1, 2, 3, 4, 3, 3, 4, 1, 1, 5, 1, 2, 5, 4, 4, 4, 5, 1, 4, 1, 5, 1, 3, 5, 1, 2, 2, 4, 3, 3, 3, 2, 4, 2, 3, 1, 2, 1, 4, 3, 4, 2, 2, 2, 1, 5, 5, 1, 2, 1, 1, 5, 5, 5, 1, 2, 4, 1, 3, 4, 3, 1, 5, 3, 5, 4, 2, 3, 1, 3, 1, 3, 3, 3, 4, 3, 2, 3, 4, 5, 1, 5, 1, 4, 4, 4, 3, 3, 1, 5, 1, 3, 4, 5, 5, 2, 2, 2, 1, 4, 5, 2, 2, 5, 2, 1, 5, 5, 4, 2, 5, 5, 2, 3, 5, 3, 3, 1, 4, 1, 3, 3, 5, 2, 4, 4, 1, 3, 4, 1, 2, 2, 2, 1, 4, 1, 5, 4, 1, 3, 2, 1, 3, 5], \"Freq\": [0.99769067715462, 0.9987256044306047, 0.9935987782483585, 0.9758353729487458, 0.9862635510265552, 0.9948879040727365, 0.9972774571232903, 0.9937580453712546, 0.9995488945653727, 0.9949294130856784, 0.9975375710260803, 0.99746288484985, 0.9920357230957787, 0.9975375710260803, 0.9981058498376215, 0.9971393031815747, 0.9967071164574409, 0.997562061622634, 0.9946468538900626, 0.9939397673616798, 0.991008058010149, 0.9949800177770839, 0.9952340654864332, 0.9979445156457268, 0.9976864946310341, 0.985698070773512, 0.45070994781184137, 0.5479218973398856, 0.9801693061526613, 0.9937498394542003, 0.9851675580358225, 0.987573080211249, 0.9964320650521705, 0.9987795572607397, 0.9957687441791022, 0.997692929109876, 0.9973167615026146, 0.9965496228256497, 0.9950591772703585, 0.9914078753423594, 0.9992001887171689, 0.9968897092880463, 0.9988445158964209, 0.9974048185547525, 0.9952753950081515, 0.9975771790649537, 0.9921990135875163, 0.9975375710260803, 0.9883968102916796, 0.9963308900626431, 0.992941975218097, 0.05704363684103373, 0.9393185533156888, 0.9995161123331424, 0.9891248845072685, 0.9913028920454243, 0.9964091051363002, 0.9965781908613685, 0.9975375710260803, 0.9987320590138447, 0.9994034672720783, 0.9890328205689952, 0.9835753949859383, 0.998881910416121, 0.9982753395830994, 0.9964274437893413, 0.9968892466726813, 0.9913317833507055, 0.9879026384508723, 0.9949603320659718, 0.9992535374506064, 0.9957128357327281, 0.9857628494536539, 0.9976693773000782, 0.9860191064634182, 0.9926829664746899, 0.9968672488270213, 0.9987564549054203, 0.9858955969957223, 0.9942665023977226, 0.9879619831266407, 0.9922153532829733, 0.9972799185387533, 0.9953198254590399, 0.9992003370647263, 0.9910339868240556, 0.9985959127065057, 0.9921631825123456, 0.9843160892879605, 0.994121397560553, 0.9923050374314659, 0.9932474143512693, 0.9986620036503991, 0.9946497862732302, 0.9887247345132478, 0.9967667806499874, 0.9481654467677934, 0.04946950157049356, 0.9989920872876416, 0.9959047043268365, 0.9982123820523494, 0.9794125871357604, 0.9957714960759263, 0.988411176372071, 0.9984753496777204, 0.9885477106693947, 0.9994010081125693, 0.9960112158580128, 0.9936485078478666, 0.985890133324537, 0.992722656170661, 0.9975208420789415, 0.9961891649412598, 0.996369769476186, 0.9989032691369647, 0.987155920169261, 0.9947091066014544, 0.9971885472190342, 0.9969512913476563, 0.9830824404932417, 0.9959929971742661, 0.9981332534504138, 0.9839811475413566, 0.9941280832816213, 0.9965343136676038, 0.9984360193407058, 0.9906724802609078, 0.9871354585736373, 0.9991736871048522, 0.9916702750305524, 0.9903632703009001, 0.9930265735403039, 0.989638740927414, 0.9450110779491273, 0.054359044306808206, 0.9978954706002363, 0.9920726462864786, 0.9977372638071625, 0.9962846255230273, 0.9976615637822929, 0.9789693820648476, 0.9877731761011349, 0.9986609964286706, 0.9977865256632652, 0.9914977179976613, 0.8569646278678987, 0.1409916097263381, 0.9986411706862157, 0.9991705322170774, 0.9989556817427492, 0.9949831649662861, 0.9979166463120172, 0.9832793625538548, 0.9935679023757727, 0.9987197632372147, 0.9877139798129734, 0.9985889507535626, 0.9982292596701068, 0.9873020988305002, 0.9859300186888371], \"Term\": [\"act\", \"action\", \"adaptation\", \"add\", \"affect\", \"air\", \"also\", \"america\", \"amp\", \"anything\", \"audubonsociety\", \"australia\", \"better\", \"birdstellus\", \"blaming\", \"border\", \"carbon\", \"cause\", \"challenge\", \"child\", \"coastal\", \"community\", \"company\", \"could\", \"country\", \"create\", \"crisis\", \"crisis\", \"damage\", \"day\", \"deforestation\", \"degree\", \"disaster\", \"dont\", \"due\", \"earth\", \"economy\", \"emission\", \"energy\", \"environmental\", \"even\", \"farmer\", \"fight\", \"five\", \"focus\", \"food\", \"forest\", \"forester\", \"free\", \"future\", \"generation\", \"get\", \"get\", \"global\", \"god\", \"gon\", \"government\", \"green\", \"growingclimatesolutions\", \"harris\", \"help\", \"hoax\", \"hope\", \"human\", \"ice\", \"im\", \"impact\", \"important\", \"including\", \"inequality\", \"issue\", \"job\", \"justice\", \"know\", \"lead\", \"least\", \"life\", \"like\", \"list\", \"little\", \"local\", \"long\", \"look\", \"love\", \"make\", \"making\", \"many\", \"mass\", \"matter\", \"might\", \"million\", \"mind\", \"much\", \"na\", \"national\", \"natural\", \"need\", \"need\", \"new\", \"normal\", \"nothing\", \"number\", \"ocean\", \"old\", \"one\", \"paris\", \"people\", \"planet\", \"pollution\", \"population\", \"project\", \"rancher\", \"react\", \"real\", \"really\", \"reduce\", \"resilience\", \"right\", \"risk\", \"role\", \"said\", \"say\", \"sector\", \"since\", \"state\", \"support\", \"sustainability\", \"tackling\", \"take\", \"taking\", \"talking\", \"technology\", \"thanks\", \"thing\", \"thing\", \"think\", \"thought\", \"threat\", \"time\", \"today\", \"true\", \"trying\", \"u\", \"use\", \"using\", \"via\", \"via\", \"vital\", \"vp\", \"want\", \"warming\", \"way\", \"wealth\", \"well\", \"world\", \"worse\", \"would\", \"year\", \"yes\", \"youre\"]}, \"R\": 30, \"lambda.step\": 0.01, \"plot.opts\": {\"xlab\": \"PC1\", \"ylab\": \"PC2\"}, \"topic.order\": [4, 1, 5, 2, 3]};\n",
       "\n",
       "function LDAvis_load_lib(url, callback){\n",
       "  var s = document.createElement('script');\n",
       "  s.src = url;\n",
       "  s.async = true;\n",
       "  s.onreadystatechange = s.onload = callback;\n",
       "  s.onerror = function(){console.warn(\"failed to load library \" + url);};\n",
       "  document.getElementsByTagName(\"head\")[0].appendChild(s);\n",
       "}\n",
       "\n",
       "if(typeof(LDAvis) !== \"undefined\"){\n",
       "   // already loaded: just create the visualization\n",
       "   !function(LDAvis){\n",
       "       new LDAvis(\"#\" + \"ldavis_el10391140339192830656713345097\", ldavis_el10391140339192830656713345097_data);\n",
       "   }(LDAvis);\n",
       "}else if(typeof define === \"function\" && define.amd){\n",
       "   // require.js is available: use it to load d3/LDAvis\n",
       "   require.config({paths: {d3: \"https://d3js.org/d3.v5\"}});\n",
       "   require([\"d3\"], function(d3){\n",
       "      window.d3 = d3;\n",
       "      LDAvis_load_lib(\"https://cdn.jsdelivr.net/gh/bmabey/pyLDAvis@3.3.1/pyLDAvis/js/ldavis.v3.0.0.js\", function(){\n",
       "        new LDAvis(\"#\" + \"ldavis_el10391140339192830656713345097\", ldavis_el10391140339192830656713345097_data);\n",
       "      });\n",
       "    });\n",
       "}else{\n",
       "    // require.js not available: dynamically load d3 & LDAvis\n",
       "    LDAvis_load_lib(\"https://d3js.org/d3.v5.js\", function(){\n",
       "         LDAvis_load_lib(\"https://cdn.jsdelivr.net/gh/bmabey/pyLDAvis@3.3.1/pyLDAvis/js/ldavis.v3.0.0.js\", function(){\n",
       "                 new LDAvis(\"#\" + \"ldavis_el10391140339192830656713345097\", ldavis_el10391140339192830656713345097_data);\n",
       "            })\n",
       "         });\n",
       "}\n",
       "</script>"
      ],
      "text/plain": [
       "PreparedData(topic_coordinates=              x         y  topics  cluster       Freq\n",
       "topic                                                \n",
       "3     -0.346011  0.059487       1        1  46.917733\n",
       "0      0.150712  0.290211       2        1  24.185384\n",
       "4      0.067457 -0.118456       3        1  10.331778\n",
       "1      0.072213 -0.138718       4        1  10.306604\n",
       "2      0.055630 -0.092524       5        1   8.258501, topic_info=        Term        Freq       Total Category  logprob  loglift\n",
       "320   action  618.000000  618.000000  Default  30.0000  30.0000\n",
       "632     time  331.000000  331.000000  Default  29.0000  29.0000\n",
       "291     take  585.000000  585.000000  Default  28.0000  28.0000\n",
       "465      amp  996.000000  996.000000  Default  27.0000  27.0000\n",
       "471    fight  519.000000  519.000000  Default  26.0000  26.0000\n",
       "...      ...         ...         ...      ...      ...      ...\n",
       "215    local   52.915497   53.645789   Topic5  -5.4715   2.4802\n",
       "2058  damage   53.325680   54.072291   Topic5  -5.4637   2.4800\n",
       "90      list   50.989360   51.729615   Topic5  -5.5085   2.4795\n",
       "334      add   49.475897   50.213388   Topic5  -5.5387   2.4791\n",
       "1289  wealth   51.104985   51.867254   Topic5  -5.5063   2.4791\n",
       "\n",
       "[185 rows x 6 columns], token_table=      Topic      Freq        Term\n",
       "term                             \n",
       "515       2  0.997691         act\n",
       "320       2  0.998726      action\n",
       "209       5  0.993599  adaptation\n",
       "334       5  0.975835         add\n",
       "574       4  0.986264      affect\n",
       "...     ...       ...         ...\n",
       "65        3  0.987714       worse\n",
       "166       2  0.998589       would\n",
       "25        1  0.998229        year\n",
       "965       3  0.987302         yes\n",
       "514       5  0.985930       youre\n",
       "\n",
       "[160 rows x 3 columns], R=30, lambda_step=0.01, plot_opts={'xlab': 'PC1', 'ylab': 'PC2'}, topic_order=[4, 1, 5, 2, 3])"
      ]
     },
     "execution_count": 9,
     "metadata": {},
     "output_type": "execute_result"
    }
   ],
   "source": [
    "# visualise the topics model\n",
    "pyLDAvis.enable_notebook()\n",
    "\n",
    "vis = gensimvis.prepare(lda_model, tweets_bow, dictionary=lda_model.id2word)\n",
    "vis"
   ]
  },
  {
   "cell_type": "markdown",
   "metadata": {
    "id": "vFIOFP5uKgGo"
   },
   "source": [
    "# LDA Mallet Model\n",
    "\n",
    "To improve the above LDA model, we explored other version of LDA model: Mallet’s version which provides better quality of topics. It is an\n",
    "open source toolkit and is a Java based package widely used for topic modeling. "
   ]
  },
  {
   "cell_type": "code",
   "execution_count": 10,
   "metadata": {
    "id": "Ywz6Urt2KgGo"
   },
   "outputs": [],
   "source": [
    "# Download File: http://mallet.cs.umass.edu/dist/mallet-2.0.8.zip\n",
    "mallet_path = './mallet-2.0.8/bin/mallet' # update this path\n",
    "ldamallet = gensim.models.wrappers.LdaMallet(mallet_path, corpus=tweets_bow, num_topics=5, id2word = text_dict,random_seed=100,alpha=100)"
   ]
  },
  {
   "cell_type": "markdown",
   "metadata": {
    "id": "YpjBNEpsMOio"
   },
   "source": [
    "#### Topic Summarisation\n",
    "\n",
    "Based on the below results, we can summarise each topic as follows:\n",
    "* <b>Topic 0 -</b> Climate Change- Ain't my problem \n",
    "* <b>Topic 1 -</b> Fight against Carbon Emissions or Global Carbon Emissions\n",
    "* <b>Topic 2 -</b> Future of Planet Earth\n",
    "* <b>Topic 3 -</b> Green Energy\n",
    "* <b>Topic 4 -</b> World Crisis\n",
    "\n",
    "LDA Mallet Model is considered to be a better version of LDA algorithm for discovering hidden topics. Therefore, we prefer to select Mallet model over Simple LDA model and hence, will be using it for further analysis."
   ]
  },
  {
   "cell_type": "code",
   "execution_count": 11,
   "metadata": {
    "id": "B5LqLbPWKgGp",
    "outputId": "03c7cb70-86b7-460b-c8ca-accb7e67667c"
   },
   "outputs": [
    {
     "name": "stdout",
     "output_type": "stream",
     "text": [
      "[(0,\n",
      "  [('amp', 0.04333165381186776),\n",
      "   ('crisis', 0.015697066005193598),\n",
      "   ('health', 0.011317390798806249),\n",
      "   ('work', 0.010464710670129065),\n",
      "   ('today', 0.009418239603116158),\n",
      "   ('policy', 0.00852680128677183),\n",
      "   ('read', 0.008333010348436106),\n",
      "   ('human', 0.007209022906088911),\n",
      "   ('pandemic', 0.007209022906088911),\n",
      "   ('border', 0.007053990155420332)]),\n",
      " (1,\n",
      "  [('action', 0.01769877231710623),\n",
      "   ('fight', 0.01533635413035901),\n",
      "   ('impact', 0.015258897796367297),\n",
      "   ('carbon', 0.014523062623446032),\n",
      "   ('real', 0.013051392277603501),\n",
      "   ('thing', 0.012586654273653228),\n",
      "   ('act', 0.009527129080980598),\n",
      "   ('food', 0.009410944579993029),\n",
      "   ('community', 0.0089074784090469),\n",
      "   ('plan', 0.008830022075055188)]),\n",
      " (2,\n",
      "  [('people', 0.0346444487502422),\n",
      "   ('time', 0.022282503390815733),\n",
      "   ('support', 0.013253245495059096),\n",
      "   ('life', 0.012749467157527611),\n",
      "   ('future', 0.011625653943034296),\n",
      "   ('environment', 0.010424336368920753),\n",
      "   ('day', 0.009184266614997093),\n",
      "   ('planet', 0.009145514435186979),\n",
      "   ('science', 0.009029257895756636),\n",
      "   ('earth', 0.008951753536136408)]),\n",
      " (3,\n",
      "  [('year', 0.01813621454755933),\n",
      "   ('dont', 0.017055759212811113),\n",
      "   ('make', 0.015550839282268957),\n",
      "   ('energy', 0.013814393208566467),\n",
      "   ('issue', 0.012463824040131199),\n",
      "   ('green', 0.010457264132741655),\n",
      "   ('im', 0.009338221107466719),\n",
      "   ('good', 0.007949064248504728),\n",
      "   ('great', 0.007640362724290951),\n",
      "   ('natural', 0.007293073509550454)]),\n",
      " (4,\n",
      "  [('world', 0.02770392632836281),\n",
      "   ('global', 0.020768311948522328),\n",
      "   ('emission', 0.016414287365622473),\n",
      "   ('country', 0.01333179208569337),\n",
      "   ('warming', 0.009863984895773129),\n",
      "   ('report', 0.009709860131776674),\n",
      "   ('stop', 0.008284206064809464),\n",
      "   ('government', 0.007975956536816552),\n",
      "   ('gas', 0.00774476939082187),\n",
      "   ('ocean', 0.007552113435826301)])]\n"
     ]
    }
   ],
   "source": [
    "# Show Topics\n",
    "pprint(ldamallet.show_topics(formatted=False))"
   ]
  },
  {
   "cell_type": "code",
   "execution_count": 12,
   "metadata": {
    "id": "0Fl4u2W7KgGp",
    "outputId": "1ebdf9d8-4132-4c5e-a0dc-c9b3ca5a2031"
   },
   "outputs": [
    {
     "data": {
      "text/html": [
       "\n",
       "<link rel=\"stylesheet\" type=\"text/css\" href=\"https://cdn.jsdelivr.net/gh/bmabey/pyLDAvis@3.3.1/pyLDAvis/js/ldavis.v1.0.0.css\">\n",
       "\n",
       "\n",
       "<div id=\"ldavis_el103911403391948123368487309598\"></div>\n",
       "<script type=\"text/javascript\">\n",
       "\n",
       "var ldavis_el103911403391948123368487309598_data = {\"mdsDat\": {\"x\": [-0.2925603600046124, 0.2932590799500722, -0.19805845219388096, 0.11551207170279111, 0.0818476605456304], \"y\": [0.21147270198150625, 0.17863854997548706, -0.13615966528148815, 0.09799439836894784, -0.35194598504445274], \"topics\": [1, 2, 3, 4, 5], \"cluster\": [1, 1, 1, 1, 1], \"Freq\": [20.133043460263014, 20.010177515308936, 19.976496812560274, 19.945707303537816, 19.93457490832995]}, \"tinfo\": {\"Term\": [\"amp\", \"people\", \"world\", \"time\", \"global\", \"year\", \"action\", \"dont\", \"emission\", \"crisis\", \"make\", \"fight\", \"impact\", \"carbon\", \"energy\", \"country\", \"support\", \"real\", \"life\", \"thing\", \"issue\", \"future\", \"health\", \"environment\", \"warming\", \"work\", \"report\", \"green\", \"act\", \"today\", \"crisis\", \"evidence\", \"forsake\", \"pandemic\", \"kaciekkart\", \"america\", \"build\", \"lake\", \"today\", \"trishregan\", \"realize\", \"ridiculous\", \"taxing\", \"marcosmaurelli\", \"blame\", \"border\", \"harris\", \"immigration\", \"kamala\", \"vp\", \"mahb\", \"richardheinberg\", \"paper\", \"factor\", \"gender\", \"severity\", \"sexual\", \"worth\", \"activist\", \"par\", \"amp\", \"health\", \"policy\", \"read\", \"threat\", \"tackle\", \"child\", \"money\", \"uk\", \"made\", \"business\", \"medium\", \"nation\", \"building\", \"thought\", \"kid\", \"didnt\", \"trump\", \"step\", \"india\", \"question\", \"president\", \"book\", \"join\", \"work\", \"vote\", \"human\", \"land\", \"air\", \"issue\", \"make\", \"communist\", \"push\", \"search\", \"lol\", \"lover\", \"changeits\", \"dont\", \"im\", \"isnt\", \"opening\", \"improvement\", \"spending\", \"grow\", \"claireberlinski\", \"holocaust\", \"ill\", \"guess\", \"sorted\", \"exceed\", \"cbs\", \"coverage\", \"nbc\", \"petition\", \"rich\", \"subsidy\", \"doesnt\", \"past\", \"coastal\", \"year\", \"energy\", \"good\", \"great\", \"due\", \"disaster\", \"back\", \"public\", \"important\", \"bad\", \"lot\", \"major\", \"agree\", \"fighting\", \"story\", \"youre\", \"article\", \"affect\", \"tax\", \"high\", \"host\", \"temperature\", \"feel\", \"care\", \"natural\", \"green\", \"vaccine\", \"cost\", \"system\", \"party\", \"start\", \"covid\", \"future\", \"biden\", \"day\", \"justice\", \"national\", \"withstand\", \"hurt\", \"list\", \"people\", \"post\", \"life\", \"consensus\", \"begun\", \"chose\", \"bring\", \"approach\", \"tackling\", \"power\", \"exist\", \"support\", \"eu\", \"endangered\", \"primarily\", \"martin\", \"investing\", \"data\", \"planet\", \"excuse\", \"pretty\", \"demand\", \"time\", \"environment\", \"resource\", \"horizon\", \"mitigate\", \"generation\", \"pollution\", \"term\", \"god\", \"project\", \"elonmusk\", \"social\", \"damage\", \"short\", \"nature\", \"war\", \"give\", \"live\", \"mar\", \"love\", \"fact\", \"earth\", \"economic\", \"science\", \"big\", \"challenge\", \"diet\", \"global\", \"projected\", \"scientist\", \"wednesday\", \"garden\", \"greenhouse\", \"facing\", \"forever\", \"reducing\", \"trade\", \"drought\", \"destroy\", \"moving\", \"possibly\", \"poverty\", \"agreement\", \"higher\", \"destruction\", \"curbing\", \"quickly\", \"potential\", \"canada\", \"impacted\", \"situation\", \"danger\", \"theyll\", \"importance\", \"experience\", \"justintrudeau\", \"world\", \"emission\", \"country\", \"warming\", \"report\", \"stop\", \"government\", \"ocean\", \"state\", \"methane\", \"weather\", \"point\", \"level\", \"talk\", \"cut\", \"research\", \"ice\", \"study\", \"infrastructure\", \"reduce\", \"worst\", \"rise\", \"sea\", \"climateaction\", \"event\", \"role\", \"le\", \"change\", \"risk\", \"part\", \"normal\", \"gas\", \"decade\", \"animal\", \"fever\", \"making\", \"worse\", \"started\", \"beef\", \"shithole\", \"skepticalzebra\", \"environmentlink\", \"community\", \"humanpredicament\", \"realthis\", \"amazingjtv\", \"kylekulinski\", \"orientation\", \"race\", \"isapolvorita\", \"agavrielatos\", \"corruption\", \"find\", \"talented\", \"action\", \"tuftsuniversity\", \"aggriculturesubsidize\", \"controldefund\", \"meatsfight\", \"si\", \"stemabolish\", \"everyones\", \"declaring\", \"fight\", \"carbon\", \"real\", \"thing\", \"act\", \"food\", \"water\", \"fuel\", \"effect\", \"farmer\", \"impact\", \"fossil\", \"china\", \"company\", \"sustainability\", \"address\", \"million\", \"vital\", \"economy\", \"technology\", \"save\", \"effort\", \"area\", \"industry\", \"woman\", \"plan\", \"environmental\", \"problem\", \"job\", \"solution\"], \"Freq\": [1329.0, 1054.0, 841.0, 678.0, 631.0, 552.0, 537.0, 520.0, 498.0, 481.0, 474.0, 465.0, 467.0, 441.0, 421.0, 405.0, 403.0, 396.0, 388.0, 382.0, 380.0, 353.0, 347.0, 317.0, 299.0, 333.0, 295.0, 337.0, 289.0, 288.0, 481.54395318945575, 78.47382940865205, 1.1889974152826068, 221.15351924256484, 1.1889974152826068, 172.40462521597797, 93.93079580732592, 20.212956059804316, 288.9263719136734, 1.1889974152826068, 19.02395864452171, 13.078971568108674, 9.511979322260855, 1.1889974152826068, 78.47382940865205, 216.3975295814344, 140.3016950033476, 49.93789144186948, 46.37089919602166, 131.97871309636935, 1.1889974152826068, 1.1889974152826068, 30.913932797347776, 52.315886272434696, 40.42591211960863, 4.755989661130427, 9.511979322260855, 20.212956059804316, 59.44987076413034, 2.3779948305652137, 1329.2991102859544, 347.1872452625212, 261.57943136217347, 255.63444428576042, 214.0195347508692, 192.61758127578227, 162.89264589371712, 154.56966398673887, 151.00267174089106, 146.24668207976063, 145.05768466447802, 133.16771051165196, 128.41172085052153, 128.41172085052153, 116.52174669769546, 109.38776220599982, 105.82076996015199, 104.63177254486939, 99.87578288373896, 99.87578288373896, 98.68678546845635, 98.68678546845635, 96.30879063789114, 178.349612292391, 321.02930212630383, 137.9237001727824, 221.15351924256484, 122.46673377410849, 121.27773635882589, 380.02333840188055, 474.1467658698386, 12.94197127684423, 88.24071325121065, 12.94197127684423, 42.35554236058111, 3.5296285300484262, 8.235799903446328, 520.031936760468, 284.72336809057305, 182.3641407191687, 15.295056963543178, 16.471599806892655, 20.001228336941082, 36.47282814383374, 3.5296285300484262, 8.235799903446328, 54.120970794075866, 58.82714216747377, 3.5296285300484262, 3.5296285300484262, 103.53577021475384, 100.00614168470541, 82.35799903446328, 108.24194158815173, 58.82714216747377, 10.588885590145278, 200.01228336941082, 74.12219913101694, 71.769113444318, 552.9751363742535, 421.2023379191122, 242.36782572999195, 232.95548298319613, 185.89376924921712, 181.18759787581922, 178.83451218912026, 165.89254091227602, 164.71599806892655, 161.18636953887815, 160.00982669552866, 157.65674100882973, 150.59748394873284, 150.59748394873284, 143.538226888636, 137.65551267188863, 130.59625561179178, 110.5950272748507, 110.5950272748507, 110.5950272748507, 107.06539874480227, 105.88885590145279, 105.88885590145279, 174.12834081572237, 222.36659739305085, 318.84311054770785, 128.24316992509281, 123.53699855169492, 141.18514120193706, 129.41971276844228, 131.77279845514124, 150.59748394873284, 353.8708097834037, 241.81172001865914, 279.55793972888887, 159.24186440253166, 163.96014186631035, 5.8978468297233935, 11.795693659446787, 60.15803766317862, 1054.5350131545429, 63.69674576101265, 388.0783213957993, 23.591387318893574, 5.8978468297233935, 5.8978468297233935, 112.05908976474448, 106.1612429350211, 115.59779786257852, 154.5235869387529, 31.848372880506325, 403.41272315308015, 47.18277463778715, 5.8978468297233935, 5.8978468297233935, 5.8978468297233935, 41.284927808063756, 76.67200878640412, 278.37837036294417, 23.591387318893574, 53.08062146751055, 57.79889893128926, 678.2523854181903, 317.3041594391186, 215.8611939678762, 199.34722284465073, 193.44937601492734, 191.09023728303796, 185.19239045331457, 184.0128210873699, 169.85798869603374, 162.78057250036568, 162.78057250036568, 150.9848788409189, 150.9848788409189, 142.72789327930613, 140.36875454741678, 134.4709077176934, 133.29133835174872, 122.6752140582466, 120.31607532635724, 117.95693659446789, 161.601003134421, 272.48052353322083, 147.44617074308485, 274.8396622651102, 150.9848788409189, 150.9848788409189, 15.22345561842775, 631.187890640966, 15.22345561842775, 180.33939732599026, 19.90759580871321, 15.22345561842775, 91.34073371056651, 39.81519161742642, 19.90759580871321, 69.09106780671056, 39.81519161742642, 101.8800491387088, 30.4469112368555, 33.960016379569595, 15.22345561842775, 79.63038323485284, 45.670366855283255, 39.81519161742642, 30.4469112368555, 30.4469112368555, 60.893822473711, 45.670366855283255, 80.80141828242422, 30.4469112368555, 33.960016379569595, 30.4469112368555, 19.90759580871321, 19.90759580871321, 33.960016379569595, 19.90759580871321, 841.9741992038117, 498.86093026540175, 405.17812645969246, 299.7849721782696, 295.1008319879841, 251.7725352278436, 242.40425484727263, 229.52286932398763, 218.98355389584535, 217.81251884827395, 215.47044875313125, 210.7863085628458, 195.56285294441804, 193.2207828492753, 192.04974780170394, 167.45801180270527, 160.43180151727705, 160.43180151727705, 154.57662627942025, 151.06352113670616, 142.8662758037066, 137.01110056584974, 137.01110056584974, 125.30075009013612, 122.95867999499336, 117.10350475713655, 115.93246970956518, 111.24832951927972, 196.7338879919894, 199.0759580871321, 159.2607664697057, 235.37804456184446, 126.47178513770749, 99.99098931609592, 50.583676948142646, 174.10195786802583, 125.87101008026194, 37.64366656605964, 24.70365618397664, 1.1763645801893639, 1.1763645801893639, 1.1763645801893639, 270.5638534435537, 1.1763645801893639, 1.1763645801893639, 1.1763645801893639, 1.1763645801893639, 2.3527291603787277, 49.40731236795328, 1.1763645801893639, 1.1763645801893639, 22.35092702359791, 171.74922870764712, 1.1763645801893639, 537.5986131465393, 1.1763645801893639, 1.1763645801893639, 1.1763645801893639, 1.1763645801893639, 3.5290937405680913, 1.1763645801893639, 28.23274992454473, 2.3527291603787277, 465.8403737549881, 441.13671757101145, 396.43486352381564, 382.31848856154323, 289.3856867265835, 285.8565929860154, 256.44747848128134, 254.0947493209026, 230.56745771711533, 221.15654107560042, 463.4876445946093, 204.68743695294933, 203.51107237275994, 194.10015573124502, 185.8656036699195, 182.3365099293514, 170.57286412745776, 162.3383120661322, 151.75103084442793, 139.9873850425343, 137.63465588215558, 134.10556214158748, 130.57646840101938, 128.22373924064067, 125.87101008026194, 268.21112428317497, 199.98197863219184, 251.74202016052388, 198.8056140520025, 225.86199939635785], \"Total\": [1329.0, 1054.0, 841.0, 678.0, 631.0, 552.0, 537.0, 520.0, 498.0, 481.0, 474.0, 465.0, 467.0, 441.0, 421.0, 405.0, 403.0, 396.0, 388.0, 382.0, 380.0, 353.0, 347.0, 317.0, 299.0, 333.0, 295.0, 337.0, 289.0, 288.0, 481.54395318945575, 78.47382940865205, 1.1889974152826068, 221.15351924256484, 1.1889974152826068, 172.40462521597797, 93.93079580732592, 20.212956059804316, 288.9263719136734, 1.1889974152826068, 19.02395864452171, 13.078971568108674, 9.511979322260855, 1.1889974152826068, 78.47382940865205, 216.3975295814344, 140.3016950033476, 49.93789144186948, 46.37089919602166, 131.97871309636935, 1.1889974152826068, 1.1889974152826068, 30.913932797347776, 52.315886272434696, 40.42591211960863, 4.755989661130427, 9.511979322260855, 20.212956059804316, 59.44987076413034, 2.3779948305652137, 1329.2991102859544, 347.1872452625212, 261.57943136217347, 255.63444428576042, 214.0195347508692, 192.61758127578227, 162.89264589371712, 154.56966398673887, 151.00267174089106, 146.24668207976063, 145.05768466447802, 133.16771051165196, 128.41172085052153, 128.41172085052153, 116.52174669769546, 109.38776220599982, 105.82076996015199, 104.63177254486939, 99.87578288373896, 99.87578288373896, 98.68678546845635, 98.68678546845635, 96.30879063789114, 179.52064733996235, 333.96931250838685, 155.49776020472618, 320.2373459819179, 137.76179073765167, 140.01429711996775, 380.02333840188055, 474.1467658698386, 12.94197127684423, 88.24071325121065, 12.94197127684423, 42.35554236058111, 3.5296285300484262, 8.235799903446328, 520.031936760468, 284.72336809057305, 182.3641407191687, 15.295056963543178, 16.471599806892655, 20.001228336941082, 36.47282814383374, 3.5296285300484262, 8.235799903446328, 54.120970794075866, 58.82714216747377, 3.5296285300484262, 3.5296285300484262, 103.53577021475384, 100.00614168470541, 82.35799903446328, 108.24194158815173, 58.82714216747377, 10.588885590145278, 200.01228336941082, 74.12219913101694, 71.769113444318, 552.9751363742535, 421.2023379191122, 242.36782572999195, 232.95548298319613, 185.89376924921712, 181.18759787581922, 178.83451218912026, 165.89254091227602, 164.71599806892655, 161.18636953887815, 160.00982669552866, 157.65674100882973, 150.59748394873284, 150.59748394873284, 143.538226888636, 137.65551267188863, 130.59625561179178, 110.5950272748507, 110.5950272748507, 110.5950272748507, 107.06539874480227, 105.88885590145279, 105.88885590145279, 175.31733823100498, 227.0507375833363, 337.5796713088497, 129.43216734037543, 124.7165679176396, 145.86928139222252, 134.10385295872774, 141.18371509665616, 196.6006892205753, 353.8708097834037, 241.81172001865914, 279.55793972888887, 159.24186440253166, 163.96014186631035, 5.8978468297233935, 11.795693659446787, 60.15803766317862, 1054.5350131545429, 63.69674576101265, 388.0783213957993, 23.591387318893574, 5.8978468297233935, 5.8978468297233935, 112.05908976474448, 106.1612429350211, 115.59779786257852, 154.5235869387529, 31.848372880506325, 403.41272315308015, 47.18277463778715, 5.8978468297233935, 5.8978468297233935, 5.8978468297233935, 41.284927808063756, 76.67200878640412, 278.37837036294417, 23.591387318893574, 53.08062146751055, 57.79889893128926, 678.2523854181903, 317.3041594391186, 215.8611939678762, 199.34722284465073, 193.44937601492734, 191.09023728303796, 185.19239045331457, 184.0128210873699, 169.85798869603374, 162.78057250036568, 162.78057250036568, 150.9848788409189, 150.9848788409189, 142.72789327930613, 140.36875454741678, 134.4709077176934, 133.29133835174872, 122.6752140582466, 120.31607532635724, 117.95693659446789, 162.77736771461036, 289.1264873471773, 152.15234211648274, 326.36520435825025, 187.45770698475263, 200.3921912088722, 15.22345561842775, 631.187890640966, 15.22345561842775, 180.33939732599026, 19.90759580871321, 15.22345561842775, 91.34073371056651, 39.81519161742642, 19.90759580871321, 69.09106780671056, 39.81519161742642, 101.8800491387088, 30.4469112368555, 33.960016379569595, 15.22345561842775, 79.63038323485284, 45.670366855283255, 39.81519161742642, 30.4469112368555, 30.4469112368555, 60.893822473711, 45.670366855283255, 80.80141828242422, 30.4469112368555, 33.960016379569595, 30.4469112368555, 19.90759580871321, 19.90759580871321, 33.960016379569595, 19.90759580871321, 841.9741992038117, 498.86093026540175, 405.17812645969246, 299.7849721782696, 295.1008319879841, 251.7725352278436, 242.40425484727263, 229.52286932398763, 218.98355389584535, 217.81251884827395, 215.47044875313125, 210.7863085628458, 195.56285294441804, 193.2207828492753, 192.04974780170394, 167.45801180270527, 160.43180151727705, 160.43180151727705, 154.57662627942025, 151.06352113670616, 142.8662758037066, 137.01110056584974, 137.01110056584974, 125.30075009013612, 122.95867999499336, 117.10350475713655, 115.93246970956518, 111.24832951927972, 197.91025257217876, 201.4539529176973, 160.44033583565036, 240.08421593524236, 127.65135450365216, 99.99098931609592, 50.583676948142646, 174.10195786802583, 125.87101008026194, 37.64366656605964, 24.70365618397664, 1.1763645801893639, 1.1763645801893639, 1.1763645801893639, 270.5638534435537, 1.1763645801893639, 1.1763645801893639, 1.1763645801893639, 1.1763645801893639, 2.3527291603787277, 49.40731236795328, 1.1763645801893639, 1.1763645801893639, 22.35092702359791, 171.74922870764712, 1.1763645801893639, 537.5986131465393, 1.1763645801893639, 1.1763645801893639, 1.1763645801893639, 1.1763645801893639, 3.5290937405680913, 1.1763645801893639, 28.23274992454473, 2.3527291603787277, 465.8403737549881, 441.13671757101145, 396.43486352381564, 382.31848856154323, 289.3856867265835, 285.8565929860154, 256.44747848128134, 254.0947493209026, 230.56745771711533, 221.15654107560042, 467.0172731246577, 204.68743695294933, 203.51107237275994, 194.10015573124502, 185.8656036699195, 182.3365099293514, 170.57286412745776, 162.3383120661322, 151.75103084442793, 139.9873850425343, 137.63465588215558, 134.10556214158748, 130.57646840101938, 128.22373924064067, 125.87101008026194, 270.5702630150643, 202.32404872733457, 259.93926549352346, 204.7034608817259, 289.5681732067084], \"Category\": [\"Default\", \"Default\", \"Default\", \"Default\", \"Default\", \"Default\", \"Default\", \"Default\", \"Default\", \"Default\", \"Default\", \"Default\", \"Default\", \"Default\", \"Default\", \"Default\", \"Default\", \"Default\", \"Default\", \"Default\", \"Default\", \"Default\", \"Default\", \"Default\", \"Default\", \"Default\", \"Default\", \"Default\", \"Default\", \"Default\", \"Topic1\", \"Topic1\", \"Topic1\", \"Topic1\", \"Topic1\", \"Topic1\", \"Topic1\", \"Topic1\", \"Topic1\", \"Topic1\", \"Topic1\", \"Topic1\", \"Topic1\", \"Topic1\", \"Topic1\", \"Topic1\", \"Topic1\", \"Topic1\", \"Topic1\", \"Topic1\", \"Topic1\", \"Topic1\", \"Topic1\", \"Topic1\", \"Topic1\", \"Topic1\", \"Topic1\", \"Topic1\", \"Topic1\", \"Topic1\", \"Topic1\", \"Topic1\", \"Topic1\", \"Topic1\", \"Topic1\", \"Topic1\", \"Topic1\", \"Topic1\", \"Topic1\", \"Topic1\", \"Topic1\", \"Topic1\", \"Topic1\", \"Topic1\", \"Topic1\", \"Topic1\", \"Topic1\", \"Topic1\", \"Topic1\", \"Topic1\", \"Topic1\", \"Topic1\", \"Topic1\", \"Topic1\", \"Topic1\", \"Topic1\", \"Topic1\", \"Topic1\", \"Topic1\", \"Topic2\", \"Topic2\", \"Topic2\", \"Topic2\", \"Topic2\", \"Topic2\", \"Topic2\", \"Topic2\", \"Topic2\", \"Topic2\", \"Topic2\", \"Topic2\", \"Topic2\", \"Topic2\", \"Topic2\", \"Topic2\", \"Topic2\", \"Topic2\", \"Topic2\", \"Topic2\", \"Topic2\", \"Topic2\", \"Topic2\", \"Topic2\", \"Topic2\", \"Topic2\", \"Topic2\", \"Topic2\", \"Topic2\", \"Topic2\", \"Topic2\", \"Topic2\", \"Topic2\", \"Topic2\", \"Topic2\", \"Topic2\", \"Topic2\", \"Topic2\", \"Topic2\", \"Topic2\", \"Topic2\", \"Topic2\", \"Topic2\", \"Topic2\", \"Topic2\", \"Topic2\", \"Topic2\", \"Topic2\", \"Topic2\", \"Topic2\", \"Topic2\", \"Topic2\", \"Topic2\", \"Topic2\", \"Topic2\", \"Topic2\", \"Topic2\", \"Topic2\", \"Topic2\", \"Topic2\", \"Topic2\", \"Topic2\", \"Topic3\", \"Topic3\", \"Topic3\", \"Topic3\", \"Topic3\", \"Topic3\", \"Topic3\", \"Topic3\", \"Topic3\", \"Topic3\", \"Topic3\", \"Topic3\", \"Topic3\", \"Topic3\", \"Topic3\", \"Topic3\", \"Topic3\", \"Topic3\", \"Topic3\", \"Topic3\", \"Topic3\", \"Topic3\", \"Topic3\", \"Topic3\", \"Topic3\", \"Topic3\", \"Topic3\", \"Topic3\", \"Topic3\", \"Topic3\", \"Topic3\", \"Topic3\", \"Topic3\", \"Topic3\", \"Topic3\", \"Topic3\", \"Topic3\", \"Topic3\", \"Topic3\", \"Topic3\", \"Topic3\", \"Topic3\", \"Topic3\", \"Topic3\", \"Topic3\", \"Topic3\", \"Topic3\", \"Topic3\", \"Topic3\", \"Topic3\", \"Topic3\", \"Topic3\", \"Topic3\", \"Topic3\", \"Topic3\", \"Topic3\", \"Topic4\", \"Topic4\", \"Topic4\", \"Topic4\", \"Topic4\", \"Topic4\", \"Topic4\", \"Topic4\", \"Topic4\", \"Topic4\", \"Topic4\", \"Topic4\", \"Topic4\", \"Topic4\", \"Topic4\", \"Topic4\", \"Topic4\", \"Topic4\", \"Topic4\", \"Topic4\", \"Topic4\", \"Topic4\", \"Topic4\", \"Topic4\", \"Topic4\", \"Topic4\", \"Topic4\", \"Topic4\", \"Topic4\", \"Topic4\", \"Topic4\", \"Topic4\", \"Topic4\", \"Topic4\", \"Topic4\", \"Topic4\", \"Topic4\", \"Topic4\", \"Topic4\", \"Topic4\", \"Topic4\", \"Topic4\", \"Topic4\", \"Topic4\", \"Topic4\", \"Topic4\", \"Topic4\", \"Topic4\", \"Topic4\", \"Topic4\", \"Topic4\", \"Topic4\", \"Topic4\", \"Topic4\", \"Topic4\", \"Topic4\", \"Topic4\", \"Topic4\", \"Topic4\", \"Topic4\", \"Topic4\", \"Topic4\", \"Topic4\", \"Topic5\", \"Topic5\", \"Topic5\", \"Topic5\", \"Topic5\", \"Topic5\", \"Topic5\", \"Topic5\", \"Topic5\", \"Topic5\", \"Topic5\", \"Topic5\", \"Topic5\", \"Topic5\", \"Topic5\", \"Topic5\", \"Topic5\", \"Topic5\", \"Topic5\", \"Topic5\", \"Topic5\", \"Topic5\", \"Topic5\", \"Topic5\", \"Topic5\", \"Topic5\", \"Topic5\", \"Topic5\", \"Topic5\", \"Topic5\", \"Topic5\", \"Topic5\", \"Topic5\", \"Topic5\", \"Topic5\", \"Topic5\", \"Topic5\", \"Topic5\", \"Topic5\", \"Topic5\", \"Topic5\", \"Topic5\", \"Topic5\", \"Topic5\", \"Topic5\", \"Topic5\", \"Topic5\", \"Topic5\", \"Topic5\", \"Topic5\", \"Topic5\", \"Topic5\", \"Topic5\", \"Topic5\", \"Topic5\", \"Topic5\", \"Topic5\", \"Topic5\", \"Topic5\", \"Topic5\"], \"logprob\": [30.0, 29.0, 28.0, 27.0, 26.0, 25.0, 24.0, 23.0, 22.0, 21.0, 20.0, 19.0, 18.0, 17.0, 16.0, 15.0, 14.0, 13.0, 12.0, 11.0, 10.0, 9.0, 8.0, 7.0, 6.0, 5.0, 4.0, 3.0, 2.0, 1.0, -4.1543, -5.9685, -10.1582, -4.9324, -10.1582, -5.1814, -5.7887, -7.325, -4.6651, -10.1582, -7.3856, -7.7603, -8.0787, -10.1582, -5.9685, -4.9542, -5.3875, -6.4205, -6.4946, -5.4486, -10.1582, -10.1582, -6.9001, -6.374, -6.6318, -8.7719, -8.0787, -7.325, -6.2461, -9.465, -3.1389, -4.4814, -4.7645, -4.7875, -4.9652, -5.0706, -5.2382, -5.2906, -5.314, -5.346, -5.3541, -5.4397, -5.476, -5.476, -5.5732, -5.6364, -5.6695, -5.6808, -5.7274, -5.7274, -5.7393, -5.7393, -5.7637, -5.1475, -4.5597, -5.4046, -4.9324, -5.5234, -5.5332, -4.3849, -4.1636, -7.7647, -5.8451, -7.7647, -6.5791, -9.064, -8.2167, -4.0713, -4.6736, -5.1192, -7.5976, -7.5235, -7.3294, -6.7286, -9.064, -8.2167, -6.3339, -6.2506, -9.064, -9.064, -5.6852, -5.7199, -5.9141, -5.6408, -6.2506, -7.9654, -5.0268, -6.0194, -6.0517, -4.0098, -4.282, -4.8347, -4.8743, -5.1, -5.1256, -5.1387, -5.2138, -5.2209, -5.2426, -5.2499, -5.2647, -5.3105, -5.3105, -5.3586, -5.4004, -5.453, -5.6193, -5.6193, -5.6193, -5.6517, -5.6628, -5.6628, -5.1654, -4.9208, -4.5605, -5.4712, -5.5086, -5.3751, -5.4621, -5.4441, -5.3105, -4.4545, -4.8353, -4.6903, -5.253, -5.2238, -8.5489, -7.8557, -6.2265, -3.3626, -6.1693, -4.3623, -7.1626, -8.5489, -8.5489, -5.6044, -5.6585, -5.5734, -5.2831, -6.8625, -4.3235, -6.4694, -8.5489, -8.5489, -8.5489, -6.603, -5.9839, -4.6945, -7.1626, -6.3517, -6.2665, -3.804, -4.5636, -4.9488, -5.0284, -5.0585, -5.0707, -5.1021, -5.1085, -5.1885, -5.2311, -5.2311, -5.3063, -5.3063, -5.3625, -5.3792, -5.4221, -5.4309, -5.5139, -5.5334, -5.5532, -5.2383, -4.7159, -5.33, -4.7073, -5.3063, -5.3063, -7.5991, -3.8743, -7.5991, -5.1271, -7.3308, -7.5991, -5.8073, -6.6377, -7.3308, -6.0865, -6.6377, -5.6981, -6.9059, -6.7967, -7.5991, -5.9445, -6.5005, -6.6377, -6.9059, -6.9059, -6.2128, -6.5005, -5.9299, -6.9059, -6.7967, -6.9059, -7.3308, -7.3308, -6.7967, -7.3308, -3.5862, -4.1096, -4.3176, -4.6189, -4.6346, -4.7934, -4.8313, -4.8859, -4.9329, -4.9383, -4.9491, -4.9711, -5.046, -5.0581, -5.0642, -5.2012, -5.2441, -5.2441, -5.2812, -5.3042, -5.36, -5.4019, -5.4019, -5.4912, -5.5101, -5.5589, -5.5689, -5.6102, -5.0401, -5.0282, -5.2514, -4.8607, -5.4819, -5.7163, -6.3977, -5.1617, -5.4861, -6.6932, -7.1144, -10.1589, -10.1589, -10.1589, -4.7209, -10.1589, -10.1589, -10.1589, -10.1589, -9.4658, -6.4213, -10.1589, -10.1589, -7.2145, -5.1753, -10.1589, -4.0343, -10.1589, -10.1589, -10.1589, -10.1589, -9.0603, -10.1589, -6.9809, -9.4658, -4.1775, -4.232, -4.3389, -4.3751, -4.6536, -4.6659, -4.7744, -4.7837, -4.8808, -4.9225, -4.1826, -4.9999, -5.0057, -5.053, -5.0963, -5.1155, -5.1822, -5.2317, -5.2991, -5.3798, -5.3968, -5.4227, -5.4494, -5.4676, -5.4861, -4.7296, -5.0231, -4.793, -5.029, -4.9014], \"loglift\": [30.0, 29.0, 28.0, 27.0, 26.0, 25.0, 24.0, 23.0, 22.0, 21.0, 20.0, 19.0, 18.0, 17.0, 16.0, 15.0, 14.0, 13.0, 12.0, 11.0, 10.0, 9.0, 8.0, 7.0, 6.0, 5.0, 4.0, 3.0, 2.0, 1.0, 1.6028, 1.6028, 1.6028, 1.6028, 1.6028, 1.6028, 1.6028, 1.6028, 1.6028, 1.6028, 1.6028, 1.6028, 1.6028, 1.6028, 1.6028, 1.6028, 1.6028, 1.6028, 1.6028, 1.6028, 1.6028, 1.6028, 1.6028, 1.6028, 1.6028, 1.6028, 1.6028, 1.6028, 1.6028, 1.6028, 1.6028, 1.6028, 1.6028, 1.6028, 1.6028, 1.6028, 1.6028, 1.6028, 1.6028, 1.6028, 1.6028, 1.6028, 1.6028, 1.6028, 1.6028, 1.6028, 1.6028, 1.6028, 1.6028, 1.6028, 1.6028, 1.6028, 1.6028, 1.5963, 1.5633, 1.4829, 1.2326, 1.4851, 1.4591, 1.6089, 1.6089, 1.6089, 1.6089, 1.6089, 1.6089, 1.6089, 1.6089, 1.6089, 1.6089, 1.6089, 1.6089, 1.6089, 1.6089, 1.6089, 1.6089, 1.6089, 1.6089, 1.6089, 1.6089, 1.6089, 1.6089, 1.6089, 1.6089, 1.6089, 1.6089, 1.6089, 1.6089, 1.6089, 1.6089, 1.6089, 1.6089, 1.6089, 1.6089, 1.6089, 1.6089, 1.6089, 1.6089, 1.6089, 1.6089, 1.6089, 1.6089, 1.6089, 1.6089, 1.6089, 1.6089, 1.6089, 1.6089, 1.6089, 1.6089, 1.6089, 1.6089, 1.6089, 1.6021, 1.5881, 1.5518, 1.5997, 1.5994, 1.5763, 1.5734, 1.5399, 1.3424, 1.6106, 1.6106, 1.6106, 1.6106, 1.6106, 1.6106, 1.6106, 1.6106, 1.6106, 1.6106, 1.6106, 1.6106, 1.6106, 1.6106, 1.6106, 1.6106, 1.6106, 1.6106, 1.6106, 1.6106, 1.6106, 1.6106, 1.6106, 1.6106, 1.6106, 1.6106, 1.6106, 1.6106, 1.6106, 1.6106, 1.6106, 1.6106, 1.6106, 1.6106, 1.6106, 1.6106, 1.6106, 1.6106, 1.6106, 1.6106, 1.6106, 1.6106, 1.6106, 1.6106, 1.6106, 1.6106, 1.6106, 1.6106, 1.6106, 1.6106, 1.6034, 1.5513, 1.5792, 1.4388, 1.3942, 1.3275, 1.6122, 1.6122, 1.6122, 1.6122, 1.6122, 1.6122, 1.6122, 1.6122, 1.6122, 1.6122, 1.6122, 1.6122, 1.6122, 1.6122, 1.6122, 1.6122, 1.6122, 1.6122, 1.6122, 1.6122, 1.6122, 1.6122, 1.6122, 1.6122, 1.6122, 1.6122, 1.6122, 1.6122, 1.6122, 1.6122, 1.6122, 1.6122, 1.6122, 1.6122, 1.6122, 1.6122, 1.6122, 1.6122, 1.6122, 1.6122, 1.6122, 1.6122, 1.6122, 1.6122, 1.6122, 1.6122, 1.6122, 1.6122, 1.6122, 1.6122, 1.6122, 1.6122, 1.6122, 1.6122, 1.6122, 1.6122, 1.6122, 1.6122, 1.6062, 1.6003, 1.6048, 1.5924, 1.6029, 1.6127, 1.6127, 1.6127, 1.6127, 1.6127, 1.6127, 1.6127, 1.6127, 1.6127, 1.6127, 1.6127, 1.6127, 1.6127, 1.6127, 1.6127, 1.6127, 1.6127, 1.6127, 1.6127, 1.6127, 1.6127, 1.6127, 1.6127, 1.6127, 1.6127, 1.6127, 1.6127, 1.6127, 1.6127, 1.6127, 1.6127, 1.6127, 1.6127, 1.6127, 1.6127, 1.6127, 1.6127, 1.6127, 1.6127, 1.6127, 1.6051, 1.6127, 1.6127, 1.6127, 1.6127, 1.6127, 1.6127, 1.6127, 1.6127, 1.6127, 1.6127, 1.6127, 1.6127, 1.6127, 1.6127, 1.604, 1.6011, 1.5807, 1.5835, 1.3642]}, \"token.table\": {\"Topic\": [5, 5, 1, 5, 2, 5, 5, 2, 4, 1, 4, 5, 1, 1, 5, 3, 5, 2, 2, 2, 5, 3, 3, 2, 3, 1, 1, 1, 3, 1, 1, 1, 4, 5, 1, 2, 2, 3, 5, 4, 2, 1, 5, 3, 2, 4, 2, 2, 5, 5, 3, 5, 5, 2, 3, 4, 2, 2, 3, 1, 4, 4, 3, 4, 3, 3, 3, 4, 5, 3, 4, 4, 1, 4, 2, 2, 2, 4, 2, 1, 3, 2, 3, 5, 5, 5, 3, 4, 3, 2, 3, 4, 5, 5, 3, 4, 5, 1, 2, 3, 3, 4, 4, 3, 5, 1, 5, 2, 5, 5, 2, 5, 5, 4, 1, 5, 5, 3, 4, 2, 4, 1, 3, 3, 4, 3, 2, 4, 2, 2, 4, 4, 2, 2, 1, 1, 2, 4, 2, 3, 2, 1, 3, 5, 3, 4, 2, 2, 1, 2, 5, 4, 4, 2, 2, 1, 5, 4, 3, 5, 2, 2, 3, 5, 1, 4, 3, 4, 1, 1, 1, 5, 1, 1, 2, 4, 4, 3, 3, 3, 2, 2, 3, 2, 1, 1, 2, 2, 5, 3, 1, 3, 5, 1, 4, 5, 3, 1, 4, 1, 3, 2, 4, 3, 2, 3, 4, 4, 2, 5, 1, 1, 1, 1, 4, 2, 4, 2, 3, 2, 3, 5, 3, 4, 1, 3, 4, 3, 4, 4, 3, 1, 3, 3, 4, 5, 3, 4, 2, 2, 1, 4, 5, 1, 5, 1, 5, 4, 4, 4, 4, 3, 2, 1, 1, 4, 4, 5, 4, 5, 3, 4, 4, 4, 2, 1, 1, 5, 3, 5, 4, 5, 3, 1, 3, 5, 2, 2, 2, 5, 5, 4, 5, 1, 4, 2, 4, 2, 3, 5, 2, 4, 1, 3, 5, 4, 2, 1, 5, 2, 3, 4, 5, 1, 1, 3, 1, 4, 1, 1, 5, 1, 1, 2, 5, 1, 3, 4, 1, 3, 4, 5, 4, 4, 3, 5, 1, 5, 4, 5, 4, 1, 2, 2], \"Freq\": [0.9986672225190325, 1.000746629257675, 0.9924327713694245, 0.9981544566719974, 1.0036617625143567, 0.8500765977151626, 0.8500765977151626, 1.0026727939983657, 1.0072176592266329, 0.8641974604659421, 0.13570042767647025, 0.8500765977151626, 0.9976530489511457, 0.9997749864694561, 1.000090114959015, 0.9984811506481722, 1.003243552258435, 1.0030915464330645, 1.0009253684249981, 0.9988437636543877, 1.011995949660908, 1.017320417641534, 1.0007786222327286, 0.19204331781849948, 0.805515027516484, 0.9939619435903326, 0.9967937439994221, 0.9981629661752455, 0.9994726910162439, 1.000736757227268, 0.996793743999422, 0.9996023329297483, 1.0024576513852972, 0.9996900789130312, 0.0057039424057554475, 0.9924859786014478, 1.0044837623198557, 0.7535223757427261, 0.24452050603571907, 0.9977677910279391, 0.9713689130126079, 1.000659048207449, 1.0024024620456253, 1.017320417641534, 1.1332637318480425, 0.9975997742238593, 1.0032170740949884, 1.0044837623198557, 1.001611991220909, 0.9994839997378276, 1.017320417641534, 0.8500765977151626, 0.9842992184070305, 0.994254428825264, 0.008018180877623097, 0.9995603749362068, 0.9999385869247434, 0.7680542758961857, 0.23397679927963272, 1.0009470512660863, 0.9853216231564889, 0.999740963983169, 1.000100150155414, 0.9853216231564889, 1.004277848184591, 1.0015812831913837, 0.007833837751963607, 0.9870635567474146, 0.8500765977151626, 1.003479323523962, 0.9853216231564889, 0.9853216231564889, 1.0016937132466104, 0.9853216231564889, 0.9989646207686478, 0.9999385869247434, 0.9999385869247435, 1.0011773734141793, 1.0005714594481134, 0.05879779523481271, 0.9407647237570034, 0.032861801076792936, 0.9661369516577124, 1.001640642269029, 1.0018759901642986, 0.999212842928349, 1.0013479956254228, 1.0002787745565167, 1.017320417641534, 0.9995196182430709, 0.9990414262464877, 0.009885132353669602, 0.9885132353669602, 0.8500765977151626, 0.996126242274002, 1.000336047890302, 0.9917560306676898, 0.9939619435903326, 1.1332637318480425, 1.017320417641534, 1.0047609063126262, 1.0011773734141796, 1.0046416549830868, 0.99522435013218, 0.006143360186001111, 0.9939619435903327, 0.999292170718356, 1.0010496297991043, 1.0082303833365882, 1.000342662967843, 1.0026727939983657, 1.0014601014178628, 1.000501674677105, 1.0046416549830868, 0.8410447214995123, 1.001527026043726, 0.9996271102761635, 1.0003650773475083, 0.9853216231564889, 0.020826025486609435, 0.9788231978706434, 0.9894643782347203, 0.9995277765922479, 0.9978142739404424, 0.9997023221710176, 1.0008360590223424, 0.998482365681649, 0.9983323112561397, 1.0001910966689163, 0.9449621144637845, 0.05628300995238842, 0.9962696411915608, 0.9870361535450692, 1.0029384026855177, 0.9978496695756927, 0.9994606793162013, 1.0036617625143567, 1.0046416549830868, 0.9713689130126079, 0.9982582007429253, 0.9993891701187407, 0.6901131388107329, 0.3091457047161202, 0.8500765977151626, 1.017320417641534, 0.9973085042167867, 0.9977648073879505, 1.0009715813327236, 1.001243716070848, 0.008564993695495087, 0.9913980202535562, 0.9853216231564889, 1.0046416549830868, 1.0017241915442519, 0.9713689130126079, 1.001243716070848, 0.998255087225145, 1.0027389245759215, 0.9930985029357832, 0.8500765977151626, 0.9980032219177922, 0.9999385869247434, 0.029310691544520078, 0.9721379362265826, 0.9915294014226527, 0.005570389895632881, 0.998481150648172, 1.0046416549830868, 0.8410447214995123, 0.9920014663840402, 0.9964551591679005, 0.8500765977151626, 0.9894643782347203, 0.8855866299845955, 0.10888360204728634, 1.0005824967811348, 1.0022353276657618, 0.9997981814714163, 0.9973729584720921, 1.0026475270024733, 0.9916057653670373, 0.9999385869247434, 1.0003650773475083, 1.1332637318480425, 0.9983132466579577, 0.8410447214995123, 1.002177255402933, 0.9996904632059035, 0.9994143783948535, 0.9973729584720921, 0.8410447214995123, 1.017320417641534, 0.8500765977151626, 0.9987406067806709, 1.0008607455288492, 1.0025041255813296, 0.9976770355935773, 1.0027840910186494, 1.0011773734141796, 0.996793743999422, 1.0002430964820836, 0.9777550267526328, 0.022021509611545784, 0.9973729584720921, 0.995653135837923, 0.006232846589303865, 0.9910226076993145, 1.0020787936183337, 0.9807089987146522, 0.8500765977151626, 0.9993058250074851, 1.0027840910186494, 0.8410447214995123, 0.009927827034583366, 0.987818789941045, 0.961941041617212, 0.037284536496791164, 0.9983513828185138, 1.0004409401676158, 0.9977648073879505, 0.007391795305638032, 0.9905005709554963, 0.9986408054532008, 1.001013782340092, 1.0016078046948738, 0.9989611319728439, 0.9853216231564889, 1.0047609063126262, 1.0072176592266329, 1.0046416549830868, 1.0030831089976957, 1.0031738244391775, 0.9984811506481722, 1.017320417641534, 0.030776419964144756, 0.9694572288705599, 1.0013479956254228, 0.9853216231564889, 1.000647763227527, 0.9972720840262774, 1.0031738244391775, 1.001743650209097, 0.9917560306676897, 1.0014299939715126, 0.998903064377461, 0.9987406067806708, 0.8500765977151626, 0.9995795071091407, 0.9986819163518311, 0.9996583134405117, 0.9972649155583855, 1.0006430337457712, 1.0029384026855177, 0.8410447214995123, 0.9939619435903327, 0.999918980536585, 0.9954006800539715, 0.005052795330223205, 0.9991161258806796, 1.0026544485871147, 0.8426143361108227, 0.15933071082822828, 0.9981180078728069, 0.999918980536585, 1.0044837623198557, 1.0513059018743904, 1.0513059018743904, 0.8500765977151626, 1.0019064719196926, 1.1334354636202169, 1.0011773734141796, 0.8500765977151626, 1.000100150155414, 0.0034534182017515766, 0.2175653467103493, 0.7804725135958562, 1.1332637318480425, 0.9999385869247434, 0.9349520226864063, 0.06374672881952771, 1.0094659597867557, 1.0000751020058907, 0.8500765977151626, 1.001243716070848, 1.0009034534761727, 1.0032170740949884, 0.9973085042167867, 1.0388250875273723, 0.998976920832208, 1.000723083386204, 0.9666188703629129, 0.03427726490648627, 1.0019853780827526, 1.003479323523962, 0.8500765977151626, 0.9988573545453051, 1.0036617625143567, 1.0513059018743904, 1.000090114959015, 1.0010496297991043, 0.9999303250322769, 1.0046416549830868, 0.9991669548528989, 1.004104412402479, 0.9999087244494202, 0.9996278886390725, 1.000254833388309, 1.0046416549830868, 0.8410447214995123, 1.0035192699710092, 0.8500765977151626, 0.9999823066647745, 0.007726054662827679, 0.9889349968419429, 0.9979160060134518, 0.8874725900766103, 0.0064309607976565965, 0.10289537276250554, 1.0001612904318524, 0.9964980699120287, 1.0007172735183087, 0.998255087225145, 0.9978166437399949, 1.0046416549830868, 1.017320417641534, 1.001024778617855, 0.9611661550249136, 0.03892573213496535, 1.000030643214736, 1.001024778617855, 1.0009360095343784, 0.9894643782347203, 1.000044963370161, 1.002502532019422], \"Term\": [\"act\", \"action\", \"activist\", \"address\", \"affect\", \"agavrielatos\", \"aggriculturesubsidize\", \"agree\", \"agreement\", \"air\", \"air\", \"amazingjtv\", \"america\", \"amp\", \"animal\", \"approach\", \"area\", \"article\", \"back\", \"bad\", \"beef\", \"begun\", \"biden\", \"big\", \"big\", \"blame\", \"book\", \"border\", \"bring\", \"build\", \"building\", \"business\", \"canada\", \"carbon\", \"care\", \"care\", \"cbs\", \"challenge\", \"challenge\", \"change\", \"changeits\", \"child\", \"china\", \"chose\", \"claireberlinski\", \"climateaction\", \"coastal\", \"communist\", \"community\", \"company\", \"consensus\", \"controldefund\", \"corruption\", \"cost\", \"cost\", \"country\", \"coverage\", \"covid\", \"covid\", \"crisis\", \"curbing\", \"cut\", \"damage\", \"danger\", \"data\", \"day\", \"decade\", \"decade\", \"declaring\", \"demand\", \"destroy\", \"destruction\", \"didnt\", \"diet\", \"disaster\", \"doesnt\", \"dont\", \"drought\", \"due\", \"earth\", \"earth\", \"economic\", \"economic\", \"economy\", \"effect\", \"effort\", \"elonmusk\", \"emission\", \"endangered\", \"energy\", \"environment\", \"environmental\", \"environmental\", \"environmentlink\", \"eu\", \"event\", \"everyones\", \"evidence\", \"exceed\", \"excuse\", \"exist\", \"experience\", \"facing\", \"fact\", \"fact\", \"factor\", \"farmer\", \"feel\", \"fever\", \"fight\", \"fighting\", \"find\", \"food\", \"forever\", \"forsake\", \"fossil\", \"fuel\", \"future\", \"garden\", \"gas\", \"gas\", \"gender\", \"generation\", \"give\", \"global\", \"god\", \"good\", \"government\", \"great\", \"green\", \"green\", \"greenhouse\", \"grow\", \"guess\", \"harris\", \"health\", \"high\", \"higher\", \"holocaust\", \"horizon\", \"host\", \"human\", \"human\", \"humanpredicament\", \"hurt\", \"ice\", \"ill\", \"im\", \"immigration\", \"impact\", \"impact\", \"impacted\", \"importance\", \"important\", \"improvement\", \"india\", \"industry\", \"infrastructure\", \"investing\", \"isapolvorita\", \"isnt\", \"issue\", \"job\", \"job\", \"join\", \"join\", \"justice\", \"justintrudeau\", \"kaciekkart\", \"kamala\", \"kid\", \"kylekulinski\", \"lake\", \"land\", \"land\", \"le\", \"level\", \"life\", \"list\", \"live\", \"lol\", \"lot\", \"love\", \"lover\", \"made\", \"mahb\", \"major\", \"make\", \"making\", \"mar\", \"marcosmaurelli\", \"martin\", \"meatsfight\", \"medium\", \"methane\", \"million\", \"mitigate\", \"money\", \"moving\", \"nation\", \"national\", \"natural\", \"natural\", \"nature\", \"nbc\", \"normal\", \"normal\", \"ocean\", \"opening\", \"orientation\", \"pandemic\", \"paper\", \"par\", \"part\", \"part\", \"party\", \"party\", \"past\", \"people\", \"petition\", \"plan\", \"plan\", \"planet\", \"point\", \"policy\", \"pollution\", \"possibly\", \"post\", \"potential\", \"poverty\", \"power\", \"president\", \"pretty\", \"primarily\", \"problem\", \"problem\", \"project\", \"projected\", \"public\", \"push\", \"question\", \"quickly\", \"race\", \"read\", \"real\", \"realize\", \"realthis\", \"reduce\", \"reducing\", \"report\", \"research\", \"resource\", \"rich\", \"richardheinberg\", \"ridiculous\", \"rise\", \"risk\", \"risk\", \"role\", \"save\", \"science\", \"science\", \"scientist\", \"sea\", \"search\", \"severity\", \"sexual\", \"shithole\", \"short\", \"si\", \"situation\", \"skepticalzebra\", \"social\", \"solution\", \"solution\", \"solution\", \"sorted\", \"spending\", \"start\", \"start\", \"started\", \"state\", \"stemabolish\", \"step\", \"stop\", \"story\", \"study\", \"subsidy\", \"support\", \"sustainability\", \"system\", \"system\", \"tackle\", \"tackling\", \"talented\", \"talk\", \"tax\", \"taxing\", \"technology\", \"temperature\", \"term\", \"theyll\", \"thing\", \"thought\", \"threat\", \"time\", \"today\", \"trade\", \"trishregan\", \"trump\", \"tuftsuniversity\", \"uk\", \"vaccine\", \"vaccine\", \"vital\", \"vote\", \"vote\", \"vote\", \"vp\", \"war\", \"warming\", \"water\", \"weather\", \"wednesday\", \"withstand\", \"woman\", \"work\", \"work\", \"world\", \"worse\", \"worst\", \"worth\", \"year\", \"youre\"]}, \"R\": 30, \"lambda.step\": 0.01, \"plot.opts\": {\"xlab\": \"PC1\", \"ylab\": \"PC2\"}, \"topic.order\": [1, 4, 3, 5, 2]};\n",
       "\n",
       "function LDAvis_load_lib(url, callback){\n",
       "  var s = document.createElement('script');\n",
       "  s.src = url;\n",
       "  s.async = true;\n",
       "  s.onreadystatechange = s.onload = callback;\n",
       "  s.onerror = function(){console.warn(\"failed to load library \" + url);};\n",
       "  document.getElementsByTagName(\"head\")[0].appendChild(s);\n",
       "}\n",
       "\n",
       "if(typeof(LDAvis) !== \"undefined\"){\n",
       "   // already loaded: just create the visualization\n",
       "   !function(LDAvis){\n",
       "       new LDAvis(\"#\" + \"ldavis_el103911403391948123368487309598\", ldavis_el103911403391948123368487309598_data);\n",
       "   }(LDAvis);\n",
       "}else if(typeof define === \"function\" && define.amd){\n",
       "   // require.js is available: use it to load d3/LDAvis\n",
       "   require.config({paths: {d3: \"https://d3js.org/d3.v5\"}});\n",
       "   require([\"d3\"], function(d3){\n",
       "      window.d3 = d3;\n",
       "      LDAvis_load_lib(\"https://cdn.jsdelivr.net/gh/bmabey/pyLDAvis@3.3.1/pyLDAvis/js/ldavis.v3.0.0.js\", function(){\n",
       "        new LDAvis(\"#\" + \"ldavis_el103911403391948123368487309598\", ldavis_el103911403391948123368487309598_data);\n",
       "      });\n",
       "    });\n",
       "}else{\n",
       "    // require.js not available: dynamically load d3 & LDAvis\n",
       "    LDAvis_load_lib(\"https://d3js.org/d3.v5.js\", function(){\n",
       "         LDAvis_load_lib(\"https://cdn.jsdelivr.net/gh/bmabey/pyLDAvis@3.3.1/pyLDAvis/js/ldavis.v3.0.0.js\", function(){\n",
       "                 new LDAvis(\"#\" + \"ldavis_el103911403391948123368487309598\", ldavis_el103911403391948123368487309598_data);\n",
       "            })\n",
       "         });\n",
       "}\n",
       "</script>"
      ],
      "text/plain": [
       "PreparedData(topic_coordinates=              x         y  topics  cluster       Freq\n",
       "topic                                                \n",
       "0     -0.292560  0.211473       1        1  20.133043\n",
       "3      0.293259  0.178639       2        1  20.010178\n",
       "2     -0.198058 -0.136160       3        1  19.976497\n",
       "4      0.115512  0.097994       4        1  19.945707\n",
       "1      0.081848 -0.351946       5        1  19.934575, topic_info=              Term         Freq        Total Category  logprob  loglift\n",
       "465            amp  1329.000000  1329.000000  Default  30.0000  30.0000\n",
       "97          people  1054.000000  1054.000000  Default  29.0000  29.0000\n",
       "165          world   841.000000   841.000000  Default  28.0000  28.0000\n",
       "632           time   678.000000   678.000000  Default  27.0000  27.0000\n",
       "147         global   631.000000   631.000000  Default  26.0000  26.0000\n",
       "..             ...          ...          ...      ...      ...      ...\n",
       "618           plan   268.211124   270.570263   Topic5  -4.7296   1.6040\n",
       "564  environmental   199.981979   202.324049   Topic5  -5.0231   1.6011\n",
       "286        problem   251.742020   259.939265   Topic5  -4.7930   1.5807\n",
       "567            job   198.805614   204.703461   Topic5  -5.0290   1.5835\n",
       "328       solution   225.861999   289.568173   Topic5  -4.9014   1.3642\n",
       "\n",
       "[330 rows x 6 columns], token_table=      Topic      Freq      Term\n",
       "term                           \n",
       "515       5  0.998667       act\n",
       "320       5  1.000747    action\n",
       "258       1  0.992433  activist\n",
       "1529      5  0.998154   address\n",
       "574       2  1.003662    affect\n",
       "...     ...       ...       ...\n",
       "65        5  1.001025     worse\n",
       "633       4  1.000936     worst\n",
       "257       1  0.989464     worth\n",
       "25        2  1.000045      year\n",
       "514       2  1.002503     youre\n",
       "\n",
       "[334 rows x 3 columns], R=30, lambda_step=0.01, plot_opts={'xlab': 'PC1', 'ylab': 'PC2'}, topic_order=[1, 4, 3, 5, 2])"
      ]
     },
     "execution_count": 12,
     "metadata": {},
     "output_type": "execute_result"
    }
   ],
   "source": [
    "pyLDAvis.enable_notebook()  \n",
    "model = gensim.models.wrappers.ldamallet.malletmodel2ldamodel(ldamallet)\n",
    "vis = gensimvis.prepare(model, tweets_bow, dictionary=model.id2word)\n",
    "vis"
   ]
  },
  {
   "cell_type": "code",
   "execution_count": 13,
   "metadata": {
    "id": "hT-p_kSiKgGq",
    "outputId": "9f1a53da-fe68-4a45-9d41-a2cdc1cfb020"
   },
   "outputs": [
    {
     "name": "stdout",
     "output_type": "stream",
     "text": [
      "\n",
      "Coherence Score:  0.43905954081390164\n"
     ]
    }
   ],
   "source": [
    "# Compute Coherence Score\n",
    "coherence_model_ldamallet = CoherenceModel(model=ldamallet, texts=tokens, dictionary=text_dict, coherence='c_v',topn=60)\n",
    "coherence_ldamallet = coherence_model_ldamallet.get_coherence()\n",
    "print('\\nCoherence Score: ', coherence_ldamallet)"
   ]
  },
  {
   "cell_type": "markdown",
   "metadata": {
    "id": "p3j3yB1LM0SW"
   },
   "source": [
    "### Finding Dominant Topic - LDA Mallet model\n",
    "It is intriguing to find which of the 5 topics are dominant among all the tweets. Hence, we tried to discover the dominant topic and also, predicted them."
   ]
  },
  {
   "cell_type": "code",
   "execution_count": 14,
   "metadata": {
    "id": "R1FMo0W_KgGq",
    "outputId": "067b3992-f2bb-4f20-cdae-0bcc13eb64c4"
   },
   "outputs": [],
   "source": [
    "# function for dominant topics\n",
    "def format_topics_sentences(ldamodel=lda_model, corpus=tweets_bow, texts=data):\n",
    "    # Init output\n",
    "    sent_topics_df = pd.DataFrame()\n",
    "\n",
    "    # Get main topic in each document\n",
    "    for i, row in enumerate(ldamodel[corpus]):\n",
    "        row = sorted(row, key=lambda x: (x[1]), reverse=True)\n",
    "        # Get the Dominant topic, Perc Contribution and Keywords for each document\n",
    "        for j, (topic_num, prop_topic) in enumerate(row):\n",
    "            if j == 0:  # => dominant topic\n",
    "                wp = ldamodel.show_topic(topic_num)\n",
    "                topic_keywords = \", \".join([word for word, prop in wp])\n",
    "                sent_topics_df = sent_topics_df.append(pd.Series([int(topic_num), round(prop_topic,4), topic_keywords]), ignore_index=True)\n",
    "            else:\n",
    "                break\n",
    "    sent_topics_df.columns = ['Dominant_Topic', 'Perc_Contribution', 'Topic_Keywords']\n",
    "\n",
    "    # Add original text to the end of the output\n",
    "    contents = pd.Series(texts)\n",
    "    sent_topics_df = pd.concat([sent_topics_df, contents], axis=1)\n",
    "    return(sent_topics_df)\n"
   ]
  },
  {
   "cell_type": "code",
   "execution_count": 15,
   "metadata": {},
   "outputs": [],
   "source": [
    "# using Simple LDA model\n",
    "df_topic_sents_keywords = format_topics_sentences(ldamodel=ldamallet, corpus=tweets_bow, texts=data2)"
   ]
  },
  {
   "cell_type": "code",
   "execution_count": 16,
   "metadata": {},
   "outputs": [
    {
     "data": {
      "text/html": [
       "<div>\n",
       "<style scoped>\n",
       "    .dataframe tbody tr th:only-of-type {\n",
       "        vertical-align: middle;\n",
       "    }\n",
       "\n",
       "    .dataframe tbody tr th {\n",
       "        vertical-align: top;\n",
       "    }\n",
       "\n",
       "    .dataframe thead th {\n",
       "        text-align: right;\n",
       "    }\n",
       "</style>\n",
       "<table border=\"1\" class=\"dataframe\">\n",
       "  <thead>\n",
       "    <tr style=\"text-align: right;\">\n",
       "      <th></th>\n",
       "      <th>Document_No</th>\n",
       "      <th>Dominant_Topic</th>\n",
       "      <th>Topic_Perc_Contrib</th>\n",
       "      <th>Keywords</th>\n",
       "      <th>Text</th>\n",
       "    </tr>\n",
       "  </thead>\n",
       "  <tbody>\n",
       "    <tr>\n",
       "      <th>0</th>\n",
       "      <td>0</td>\n",
       "      <td>2.0</td>\n",
       "      <td>0.2167</td>\n",
       "      <td>people, time, support, life, future, environme...</td>\n",
       "      <td>part animal welfare issue alone sufficient man...</td>\n",
       "    </tr>\n",
       "    <tr>\n",
       "      <th>1</th>\n",
       "      <td>1</td>\n",
       "      <td>2.0</td>\n",
       "      <td>0.2727</td>\n",
       "      <td>people, time, support, life, future, environme...</td>\n",
       "      <td>joe biden mention racial justice national day ...</td>\n",
       "    </tr>\n",
       "    <tr>\n",
       "      <th>2</th>\n",
       "      <td>2</td>\n",
       "      <td>0.0</td>\n",
       "      <td>0.2050</td>\n",
       "      <td>amp, crisis, health, work, today, policy, read...</td>\n",
       "      <td>kaciekkart make sense</td>\n",
       "    </tr>\n",
       "    <tr>\n",
       "      <th>3</th>\n",
       "      <td>3</td>\n",
       "      <td>3.0</td>\n",
       "      <td>0.2297</td>\n",
       "      <td>year, dont, make, energy, issue, green, im, go...</td>\n",
       "      <td>nothing backdoor communist democrat party push...</td>\n",
       "    </tr>\n",
       "    <tr>\n",
       "      <th>4</th>\n",
       "      <td>4</td>\n",
       "      <td>1.0</td>\n",
       "      <td>0.2286</td>\n",
       "      <td>action, fight, impact, carbon, real, thing, ac...</td>\n",
       "      <td>fever plaguing ocean making worse</td>\n",
       "    </tr>\n",
       "    <tr>\n",
       "      <th>5</th>\n",
       "      <td>5</td>\n",
       "      <td>2.0</td>\n",
       "      <td>0.2727</td>\n",
       "      <td>people, time, support, life, future, environme...</td>\n",
       "      <td>joe biden mention racial justice national day ...</td>\n",
       "    </tr>\n",
       "    <tr>\n",
       "      <th>6</th>\n",
       "      <td>6</td>\n",
       "      <td>2.0</td>\n",
       "      <td>0.2174</td>\n",
       "      <td>people, time, support, life, future, environme...</td>\n",
       "      <td>lake charles la today joe biden immediately st...</td>\n",
       "    </tr>\n",
       "    <tr>\n",
       "      <th>7</th>\n",
       "      <td>7</td>\n",
       "      <td>3.0</td>\n",
       "      <td>0.2271</td>\n",
       "      <td>year, dont, make, energy, issue, green, im, go...</td>\n",
       "      <td>newsmax trishregan oh think coffee lover lol o...</td>\n",
       "    </tr>\n",
       "    <tr>\n",
       "      <th>8</th>\n",
       "      <td>8</td>\n",
       "      <td>3.0</td>\n",
       "      <td>0.2367</td>\n",
       "      <td>year, dont, make, energy, issue, green, im, go...</td>\n",
       "      <td>somehow im supposed onboard cutting beef diet ...</td>\n",
       "    </tr>\n",
       "    <tr>\n",
       "      <th>9</th>\n",
       "      <td>9</td>\n",
       "      <td>1.0</td>\n",
       "      <td>0.2212</td>\n",
       "      <td>action, fight, impact, carbon, real, thing, ac...</td>\n",
       "      <td>cold front move thru area</td>\n",
       "    </tr>\n",
       "  </tbody>\n",
       "</table>\n",
       "</div>"
      ],
      "text/plain": [
       "   Document_No  Dominant_Topic  Topic_Perc_Contrib  \\\n",
       "0            0             2.0              0.2167   \n",
       "1            1             2.0              0.2727   \n",
       "2            2             0.0              0.2050   \n",
       "3            3             3.0              0.2297   \n",
       "4            4             1.0              0.2286   \n",
       "5            5             2.0              0.2727   \n",
       "6            6             2.0              0.2174   \n",
       "7            7             3.0              0.2271   \n",
       "8            8             3.0              0.2367   \n",
       "9            9             1.0              0.2212   \n",
       "\n",
       "                                            Keywords  \\\n",
       "0  people, time, support, life, future, environme...   \n",
       "1  people, time, support, life, future, environme...   \n",
       "2  amp, crisis, health, work, today, policy, read...   \n",
       "3  year, dont, make, energy, issue, green, im, go...   \n",
       "4  action, fight, impact, carbon, real, thing, ac...   \n",
       "5  people, time, support, life, future, environme...   \n",
       "6  people, time, support, life, future, environme...   \n",
       "7  year, dont, make, energy, issue, green, im, go...   \n",
       "8  year, dont, make, energy, issue, green, im, go...   \n",
       "9  action, fight, impact, carbon, real, thing, ac...   \n",
       "\n",
       "                                                Text  \n",
       "0  part animal welfare issue alone sufficient man...  \n",
       "1  joe biden mention racial justice national day ...  \n",
       "2                              kaciekkart make sense  \n",
       "3  nothing backdoor communist democrat party push...  \n",
       "4                  fever plaguing ocean making worse  \n",
       "5  joe biden mention racial justice national day ...  \n",
       "6  lake charles la today joe biden immediately st...  \n",
       "7  newsmax trishregan oh think coffee lover lol o...  \n",
       "8  somehow im supposed onboard cutting beef diet ...  \n",
       "9                          cold front move thru area  "
      ]
     },
     "execution_count": 16,
     "metadata": {},
     "output_type": "execute_result"
    }
   ],
   "source": [
    "# Format\n",
    "df_dominant_topic = df_topic_sents_keywords.reset_index()\n",
    "df_dominant_topic.columns = ['Document_No', 'Dominant_Topic', 'Topic_Perc_Contrib', 'Keywords', 'Text']\n",
    "\n",
    "# Show\n",
    "df_dominant_topic.head(10)"
   ]
  },
  {
   "cell_type": "markdown",
   "metadata": {
    "id": "oDLINPVRQWOE"
   },
   "source": [
    "#### Grouping top 5 sentences under each topic\n",
    "The tabular output below actually has 5 rows, one each for a topic. It has the topic number, the keywords, and the most representative document. The Perc_Contribution column is the contribution percentage of the topic in the given document."
   ]
  },
  {
   "cell_type": "code",
   "execution_count": 17,
   "metadata": {
    "id": "dtw9M-D8KgGr",
    "outputId": "724a562e-0706-4951-fa2e-e37c063ecc62"
   },
   "outputs": [
    {
     "data": {
      "text/html": [
       "<div>\n",
       "<style scoped>\n",
       "    .dataframe tbody tr th:only-of-type {\n",
       "        vertical-align: middle;\n",
       "    }\n",
       "\n",
       "    .dataframe tbody tr th {\n",
       "        vertical-align: top;\n",
       "    }\n",
       "\n",
       "    .dataframe thead th {\n",
       "        text-align: right;\n",
       "    }\n",
       "</style>\n",
       "<table border=\"1\" class=\"dataframe\">\n",
       "  <thead>\n",
       "    <tr style=\"text-align: right;\">\n",
       "      <th></th>\n",
       "      <th>Topic_Num</th>\n",
       "      <th>Topic_Perc_Contrib</th>\n",
       "      <th>Keywords</th>\n",
       "      <th>Text</th>\n",
       "    </tr>\n",
       "  </thead>\n",
       "  <tbody>\n",
       "    <tr>\n",
       "      <th>0</th>\n",
       "      <td>0.0</td>\n",
       "      <td>0.4293</td>\n",
       "      <td>amp, crisis, health, work, today, policy, read...</td>\n",
       "      <td>swcrisis sueytonius hfjohnsen andrygiles robho...</td>\n",
       "    </tr>\n",
       "    <tr>\n",
       "      <th>1</th>\n",
       "      <td>1.0</td>\n",
       "      <td>0.3250</td>\n",
       "      <td>action, fight, impact, carbon, real, thing, ac...</td>\n",
       "      <td>welcome ecofriendlies today everyones favorite...</td>\n",
       "    </tr>\n",
       "    <tr>\n",
       "      <th>2</th>\n",
       "      <td>2.0</td>\n",
       "      <td>0.3277</td>\n",
       "      <td>people, time, support, life, future, environme...</td>\n",
       "      <td>elonmusk people multi generation time horizon ...</td>\n",
       "    </tr>\n",
       "    <tr>\n",
       "      <th>3</th>\n",
       "      <td>3.0</td>\n",
       "      <td>0.3219</td>\n",
       "      <td>year, dont, make, energy, issue, green, im, go...</td>\n",
       "      <td>msm great counterindicatoreat vegetable gt veg...</td>\n",
       "    </tr>\n",
       "    <tr>\n",
       "      <th>4</th>\n",
       "      <td>4.0</td>\n",
       "      <td>0.3223</td>\n",
       "      <td>world, global, emission, country, warming, rep...</td>\n",
       "      <td>scientist wednesday reported another reason wo...</td>\n",
       "    </tr>\n",
       "  </tbody>\n",
       "</table>\n",
       "</div>"
      ],
      "text/plain": [
       "   Topic_Num  Topic_Perc_Contrib  \\\n",
       "0        0.0              0.4293   \n",
       "1        1.0              0.3250   \n",
       "2        2.0              0.3277   \n",
       "3        3.0              0.3219   \n",
       "4        4.0              0.3223   \n",
       "\n",
       "                                            Keywords  \\\n",
       "0  amp, crisis, health, work, today, policy, read...   \n",
       "1  action, fight, impact, carbon, real, thing, ac...   \n",
       "2  people, time, support, life, future, environme...   \n",
       "3  year, dont, make, energy, issue, green, im, go...   \n",
       "4  world, global, emission, country, warming, rep...   \n",
       "\n",
       "                                                Text  \n",
       "0  swcrisis sueytonius hfjohnsen andrygiles robho...  \n",
       "1  welcome ecofriendlies today everyones favorite...  \n",
       "2  elonmusk people multi generation time horizon ...  \n",
       "3  msm great counterindicatoreat vegetable gt veg...  \n",
       "4  scientist wednesday reported another reason wo...  "
      ]
     },
     "execution_count": 17,
     "metadata": {},
     "output_type": "execute_result"
    }
   ],
   "source": [
    "# Group top 5 sentences under each topic\n",
    "sent_topics_sorteddf_mallet = pd.DataFrame()\n",
    "\n",
    "sent_topics_outdf_grpd = df_topic_sents_keywords.groupby('Dominant_Topic')\n",
    "\n",
    "for i, grp in sent_topics_outdf_grpd:\n",
    "    sent_topics_sorteddf_mallet = pd.concat([sent_topics_sorteddf_mallet, \n",
    "                                             grp.sort_values(['Perc_Contribution'], ascending=[0]).head(1)], \n",
    "                                            axis=0)\n",
    "\n",
    "# Reset Index    \n",
    "sent_topics_sorteddf_mallet.reset_index(drop=True, inplace=True)\n",
    "\n",
    "# Format\n",
    "sent_topics_sorteddf_mallet.columns = ['Topic_Num', \"Topic_Perc_Contrib\", \"Keywords\", \"Text\"]\n",
    "\n",
    "# Show\n",
    "sent_topics_sorteddf_mallet.head()"
   ]
  },
  {
   "cell_type": "markdown",
   "metadata": {
    "id": "BYBJmrsVST5e"
   },
   "source": [
    "#### Distribution of tweets amongst the 5 predicted topics\n",
    "\n",
    "To judge how widely a topic was discussed, we tried to understand the volume and distribution of topics."
   ]
  },
  {
   "cell_type": "code",
   "execution_count": 18,
   "metadata": {
    "id": "7K8FQzVnKgGs",
    "outputId": "2d730f4a-788a-4835-adc7-1b3398b7f2d0"
   },
   "outputs": [
    {
     "data": {
      "text/html": [
       "<div>\n",
       "<style scoped>\n",
       "    .dataframe tbody tr th:only-of-type {\n",
       "        vertical-align: middle;\n",
       "    }\n",
       "\n",
       "    .dataframe tbody tr th {\n",
       "        vertical-align: top;\n",
       "    }\n",
       "\n",
       "    .dataframe thead th {\n",
       "        text-align: right;\n",
       "    }\n",
       "</style>\n",
       "<table border=\"1\" class=\"dataframe\">\n",
       "  <thead>\n",
       "    <tr style=\"text-align: right;\">\n",
       "      <th></th>\n",
       "      <th>Dominant_Topic</th>\n",
       "      <th>Topic_Keywords</th>\n",
       "      <th>Num_Documents</th>\n",
       "      <th>Perc_Documents</th>\n",
       "    </tr>\n",
       "  </thead>\n",
       "  <tbody>\n",
       "    <tr>\n",
       "      <th>0.0</th>\n",
       "      <td>2.0</td>\n",
       "      <td>people, time, support, life, future, environme...</td>\n",
       "      <td>2105.0</td>\n",
       "      <td>0.2105</td>\n",
       "    </tr>\n",
       "    <tr>\n",
       "      <th>1.0</th>\n",
       "      <td>2.0</td>\n",
       "      <td>people, time, support, life, future, environme...</td>\n",
       "      <td>2046.0</td>\n",
       "      <td>0.2046</td>\n",
       "    </tr>\n",
       "    <tr>\n",
       "      <th>2.0</th>\n",
       "      <td>0.0</td>\n",
       "      <td>amp, crisis, health, work, today, policy, read...</td>\n",
       "      <td>1824.0</td>\n",
       "      <td>0.1824</td>\n",
       "    </tr>\n",
       "    <tr>\n",
       "      <th>3.0</th>\n",
       "      <td>3.0</td>\n",
       "      <td>year, dont, make, energy, issue, green, im, go...</td>\n",
       "      <td>2059.0</td>\n",
       "      <td>0.2059</td>\n",
       "    </tr>\n",
       "    <tr>\n",
       "      <th>4.0</th>\n",
       "      <td>1.0</td>\n",
       "      <td>action, fight, impact, carbon, real, thing, ac...</td>\n",
       "      <td>1966.0</td>\n",
       "      <td>0.1966</td>\n",
       "    </tr>\n",
       "  </tbody>\n",
       "</table>\n",
       "</div>"
      ],
      "text/plain": [
       "     Dominant_Topic                                     Topic_Keywords  \\\n",
       "0.0             2.0  people, time, support, life, future, environme...   \n",
       "1.0             2.0  people, time, support, life, future, environme...   \n",
       "2.0             0.0  amp, crisis, health, work, today, policy, read...   \n",
       "3.0             3.0  year, dont, make, energy, issue, green, im, go...   \n",
       "4.0             1.0  action, fight, impact, carbon, real, thing, ac...   \n",
       "\n",
       "     Num_Documents  Perc_Documents  \n",
       "0.0         2105.0          0.2105  \n",
       "1.0         2046.0          0.2046  \n",
       "2.0         1824.0          0.1824  \n",
       "3.0         2059.0          0.2059  \n",
       "4.0         1966.0          0.1966  "
      ]
     },
     "execution_count": 18,
     "metadata": {},
     "output_type": "execute_result"
    }
   ],
   "source": [
    "# Number of Documents for Each Topic\n",
    "topic_counts = df_topic_sents_keywords['Dominant_Topic'].value_counts()\n",
    "\n",
    "# Percentage of Documents for Each Topic\n",
    "topic_contribution = round(topic_counts/topic_counts.sum(), 4)\n",
    "\n",
    "# Topic Number and Keywords\n",
    "topic_num_keywords = df_topic_sents_keywords[['Dominant_Topic', 'Topic_Keywords']]\n",
    "\n",
    "# Concatenate Column wise\n",
    "df_dominant_topics = pd.concat([topic_num_keywords, topic_counts, topic_contribution], axis=1)\n",
    "\n",
    "# Change Column names\n",
    "df_dominant_topics.columns = ['Dominant_Topic', 'Topic_Keywords', 'Num_Documents', 'Perc_Documents']\n",
    "\n",
    "# Show\n",
    "df_dominant_topics.head()"
   ]
  },
  {
   "cell_type": "markdown",
   "metadata": {},
   "source": [
    "#### Contribution of each Topic\n",
    "As we can clearly see, <i><b>Topic 0: \"Climate change - Ain't my Problem\"</b></i> has contributed the most among all the other 5 topics. Since, \"Climate Change - Ain't my Problem\" is the dominant topic, it is strange to conclude that majority of people in our dataset are not bothered about climate change."
   ]
  },
  {
   "cell_type": "code",
   "execution_count": 19,
   "metadata": {},
   "outputs": [
    {
     "data": {
      "text/plain": [
       "Text(0.5, 1.0, 'Topic Percentage Contribution')"
      ]
     },
     "execution_count": 19,
     "metadata": {},
     "output_type": "execute_result"
    },
    {
     "data": {
      "image/png": "[encoded data removed]",
      "text/plain": [
       "<Figure size 576x576 with 1 Axes>"
      ]
     },
     "metadata": {
      "needs_background": "light"
     },
     "output_type": "display_data"
    }
   ],
   "source": [
    "fig, ax = plt.subplots(figsize=(8, 8))\n",
    "\n",
    "# Plot horizontal bar graph\n",
    "sent_topics_sorteddf_mallet.plot.barh(x='Topic_Num',\n",
    "                      y='Topic_Perc_Contrib',\n",
    "                      ax=ax,\n",
    "                      color=\"purple\")\n",
    "\n",
    "ax.set_title(\"Topic Percentage Contribution\")"
   ]
  }
 ],
 "metadata": {
  "colab": {
   "collapsed_sections": [],
   "name": "4. Topic Modeling.ipynb",
   "provenance": []
  },
  "kernelspec": {
   "display_name": "Python 3",
   "language": "python",
   "name": "python3"
  },
  "language_info": {
   "codemirror_mode": {
    "name": "ipython",
    "version": 3
   },
   "file_extension": ".py",
   "mimetype": "text/x-python",
   "name": "python",
   "nbconvert_exporter": "python",
   "pygments_lexer": "ipython3",
   "version": "3.8.5"
  }
 },
 "nbformat": 4,
 "nbformat_minor": 1
}
